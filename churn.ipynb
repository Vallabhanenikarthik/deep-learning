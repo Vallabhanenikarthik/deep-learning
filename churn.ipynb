{
  "metadata": {
    "kernelspec": {
      "language": "python",
      "display_name": "Python 3",
      "name": "python3"
    },
    "language_info": {
      "name": "python",
      "version": "3.11.13",
      "mimetype": "text/x-python",
      "codemirror_mode": {
        "name": "ipython",
        "version": 3
      },
      "pygments_lexer": "ipython3",
      "nbconvert_exporter": "python",
      "file_extension": ".py"
    },
    "kaggle": {
      "accelerator": "none",
      "dataSources": [
        {
          "sourceId": 358170,
          "sourceType": "datasetVersion",
          "datasetId": 156197
        }
      ],
      "dockerImageVersionId": 31089,
      "isInternetEnabled": false,
      "language": "python",
      "sourceType": "notebook",
      "isGpuEnabled": false
    },
    "colab": {
      "provenance": [],
      "include_colab_link": true
    }
  },
  "nbformat_minor": 0,
  "nbformat": 4,
  "cells": [
    {
      "cell_type": "markdown",
      "metadata": {
        "id": "view-in-github",
        "colab_type": "text"
      },
      "source": [
        "<a href=\"https://colab.research.google.com/github/Vallabhanenikarthik/deep-learning/blob/main/churn.ipynb\" target=\"_parent\"><img src=\"https://colab.research.google.com/assets/colab-badge.svg\" alt=\"Open In Colab\"/></a>"
      ]
    },
    {
      "source": [
        "# IMPORTANT: RUN THIS CELL IN ORDER TO IMPORT YOUR KAGGLE DATA SOURCES,\n",
        "# THEN FEEL FREE TO DELETE THIS CELL.\n",
        "# NOTE: THIS NOTEBOOK ENVIRONMENT DIFFERS FROM KAGGLE'S PYTHON\n",
        "# ENVIRONMENT SO THERE MAY BE MISSING LIBRARIES USED BY YOUR\n",
        "# NOTEBOOK.\n",
        "import kagglehub\n",
        "shrutimechlearn_churn_modelling_path = kagglehub.dataset_download('shrutimechlearn/churn-modelling')\n",
        "\n",
        "print('Data source import complete.')\n"
      ],
      "metadata": {
        "id": "Ayu9iAo3CFDG"
      },
      "cell_type": "code",
      "outputs": [],
      "execution_count": null
    },
    {
      "cell_type": "code",
      "source": [
        "# This Python 3 environment comes with many helpful analytics libraries installed\n",
        "# It is defined by the kaggle/python Docker image: https://github.com/kaggle/docker-python\n",
        "# For example, here's several helpful packages to load\n",
        "\n",
        "import numpy as np # linear algebra\n",
        "import pandas as pd # data processing, CSV file I/O (e.g. pd.read_csv)\n",
        "\n",
        "# Input data files are available in the read-only \"../input/\" directory\n",
        "# For example, running this (by clicking run or pressing Shift+Enter) will list all files under the input directory\n",
        "\n",
        "import os\n",
        "for dirname, _, filenames in os.walk('/kaggle/input'):\n",
        "    for filename in filenames:\n",
        "        print(os.path.join(dirname, filename))\n",
        "\n",
        "# You can write up to 20GB to the current directory (/kaggle/working/) that gets preserved as output when you create a version using \"Save & Run All\"\n",
        "# You can also write temporary files to /kaggle/temp/, but they won't be saved outside of the current session"
      ],
      "metadata": {
        "_uuid": "8f2839f25d086af736a60e9eeb907d3b93b6e0e5",
        "_cell_guid": "b1076dfc-b9ad-4769-8c92-a6c4dae69d19",
        "trusted": true,
        "execution": {
          "iopub.status.busy": "2025-08-20T03:45:09.481848Z",
          "iopub.execute_input": "2025-08-20T03:45:09.482141Z",
          "iopub.status.idle": "2025-08-20T03:45:09.845054Z",
          "shell.execute_reply.started": "2025-08-20T03:45:09.482111Z",
          "shell.execute_reply": "2025-08-20T03:45:09.844111Z"
        },
        "id": "GOWwljrUCFDI",
        "outputId": "b9b5ab63-e0f4-4894-a38e-32e3d3b570b1"
      },
      "outputs": [
        {
          "name": "stdout",
          "text": "/kaggle/input/churn-modelling/Churn_Modelling.csv\n",
          "output_type": "stream"
        }
      ],
      "execution_count": null
    },
    {
      "cell_type": "code",
      "source": [
        "df = pd.read_csv('/kaggle/input/churn-modelling/Churn_Modelling.csv')"
      ],
      "metadata": {
        "trusted": true,
        "execution": {
          "iopub.status.busy": "2025-08-20T03:59:41.858473Z",
          "iopub.execute_input": "2025-08-20T03:59:41.858804Z",
          "iopub.status.idle": "2025-08-20T03:59:41.932079Z",
          "shell.execute_reply.started": "2025-08-20T03:59:41.858778Z",
          "shell.execute_reply": "2025-08-20T03:59:41.931216Z"
        },
        "id": "DlqSy8i0CFDJ"
      },
      "outputs": [],
      "execution_count": null
    },
    {
      "cell_type": "code",
      "source": [
        "df.head()"
      ],
      "metadata": {
        "trusted": true,
        "execution": {
          "iopub.status.busy": "2025-08-20T03:59:47.722781Z",
          "iopub.execute_input": "2025-08-20T03:59:47.723078Z",
          "iopub.status.idle": "2025-08-20T03:59:47.757592Z",
          "shell.execute_reply.started": "2025-08-20T03:59:47.723055Z",
          "shell.execute_reply": "2025-08-20T03:59:47.755383Z"
        },
        "id": "xZnRvnNMCFDJ",
        "outputId": "5a9a2813-eded-4bfc-a36e-6e61fbee6343"
      },
      "outputs": [
        {
          "execution_count": 3,
          "output_type": "execute_result",
          "data": {
            "text/plain": "   RowNumber  CustomerId   Surname  CreditScore Geography  Gender  Age  \\\n0          1    15634602  Hargrave          619    France  Female   42   \n1          2    15647311      Hill          608     Spain  Female   41   \n2          3    15619304      Onio          502    France  Female   42   \n3          4    15701354      Boni          699    France  Female   39   \n4          5    15737888  Mitchell          850     Spain  Female   43   \n\n   Tenure    Balance  NumOfProducts  HasCrCard  IsActiveMember  \\\n0       2       0.00              1          1               1   \n1       1   83807.86              1          0               1   \n2       8  159660.80              3          1               0   \n3       1       0.00              2          0               0   \n4       2  125510.82              1          1               1   \n\n   EstimatedSalary  Exited  \n0        101348.88       1  \n1        112542.58       0  \n2        113931.57       1  \n3         93826.63       0  \n4         79084.10       0  ",
            "text/html": "<div>\n<style scoped>\n    .dataframe tbody tr th:only-of-type {\n        vertical-align: middle;\n    }\n\n    .dataframe tbody tr th {\n        vertical-align: top;\n    }\n\n    .dataframe thead th {\n        text-align: right;\n    }\n</style>\n<table border=\"1\" class=\"dataframe\">\n  <thead>\n    <tr style=\"text-align: right;\">\n      <th></th>\n      <th>RowNumber</th>\n      <th>CustomerId</th>\n      <th>Surname</th>\n      <th>CreditScore</th>\n      <th>Geography</th>\n      <th>Gender</th>\n      <th>Age</th>\n      <th>Tenure</th>\n      <th>Balance</th>\n      <th>NumOfProducts</th>\n      <th>HasCrCard</th>\n      <th>IsActiveMember</th>\n      <th>EstimatedSalary</th>\n      <th>Exited</th>\n    </tr>\n  </thead>\n  <tbody>\n    <tr>\n      <th>0</th>\n      <td>1</td>\n      <td>15634602</td>\n      <td>Hargrave</td>\n      <td>619</td>\n      <td>France</td>\n      <td>Female</td>\n      <td>42</td>\n      <td>2</td>\n      <td>0.00</td>\n      <td>1</td>\n      <td>1</td>\n      <td>1</td>\n      <td>101348.88</td>\n      <td>1</td>\n    </tr>\n    <tr>\n      <th>1</th>\n      <td>2</td>\n      <td>15647311</td>\n      <td>Hill</td>\n      <td>608</td>\n      <td>Spain</td>\n      <td>Female</td>\n      <td>41</td>\n      <td>1</td>\n      <td>83807.86</td>\n      <td>1</td>\n      <td>0</td>\n      <td>1</td>\n      <td>112542.58</td>\n      <td>0</td>\n    </tr>\n    <tr>\n      <th>2</th>\n      <td>3</td>\n      <td>15619304</td>\n      <td>Onio</td>\n      <td>502</td>\n      <td>France</td>\n      <td>Female</td>\n      <td>42</td>\n      <td>8</td>\n      <td>159660.80</td>\n      <td>3</td>\n      <td>1</td>\n      <td>0</td>\n      <td>113931.57</td>\n      <td>1</td>\n    </tr>\n    <tr>\n      <th>3</th>\n      <td>4</td>\n      <td>15701354</td>\n      <td>Boni</td>\n      <td>699</td>\n      <td>France</td>\n      <td>Female</td>\n      <td>39</td>\n      <td>1</td>\n      <td>0.00</td>\n      <td>2</td>\n      <td>0</td>\n      <td>0</td>\n      <td>93826.63</td>\n      <td>0</td>\n    </tr>\n    <tr>\n      <th>4</th>\n      <td>5</td>\n      <td>15737888</td>\n      <td>Mitchell</td>\n      <td>850</td>\n      <td>Spain</td>\n      <td>Female</td>\n      <td>43</td>\n      <td>2</td>\n      <td>125510.82</td>\n      <td>1</td>\n      <td>1</td>\n      <td>1</td>\n      <td>79084.10</td>\n      <td>0</td>\n    </tr>\n  </tbody>\n</table>\n</div>"
          },
          "metadata": {}
        }
      ],
      "execution_count": null
    },
    {
      "cell_type": "code",
      "source": [
        "df.info()"
      ],
      "metadata": {
        "trusted": true,
        "execution": {
          "iopub.status.busy": "2025-08-20T03:59:53.691047Z",
          "iopub.execute_input": "2025-08-20T03:59:53.691404Z",
          "iopub.status.idle": "2025-08-20T03:59:53.718094Z",
          "shell.execute_reply.started": "2025-08-20T03:59:53.691377Z",
          "shell.execute_reply": "2025-08-20T03:59:53.717336Z"
        },
        "id": "8tas5f-UCFDJ",
        "outputId": "95f094c9-d41d-4094-8166-6a51d1faa2e5"
      },
      "outputs": [
        {
          "name": "stdout",
          "text": "<class 'pandas.core.frame.DataFrame'>\nRangeIndex: 10000 entries, 0 to 9999\nData columns (total 14 columns):\n #   Column           Non-Null Count  Dtype  \n---  ------           --------------  -----  \n 0   RowNumber        10000 non-null  int64  \n 1   CustomerId       10000 non-null  int64  \n 2   Surname          10000 non-null  object \n 3   CreditScore      10000 non-null  int64  \n 4   Geography        10000 non-null  object \n 5   Gender           10000 non-null  object \n 6   Age              10000 non-null  int64  \n 7   Tenure           10000 non-null  int64  \n 8   Balance          10000 non-null  float64\n 9   NumOfProducts    10000 non-null  int64  \n 10  HasCrCard        10000 non-null  int64  \n 11  IsActiveMember   10000 non-null  int64  \n 12  EstimatedSalary  10000 non-null  float64\n 13  Exited           10000 non-null  int64  \ndtypes: float64(2), int64(9), object(3)\nmemory usage: 1.1+ MB\n",
          "output_type": "stream"
        }
      ],
      "execution_count": null
    },
    {
      "cell_type": "code",
      "source": [
        "df.duplicated().sum()"
      ],
      "metadata": {
        "trusted": true,
        "execution": {
          "iopub.status.busy": "2025-08-20T03:59:59.997946Z",
          "iopub.execute_input": "2025-08-20T03:59:59.99823Z",
          "iopub.status.idle": "2025-08-20T04:00:00.012711Z",
          "shell.execute_reply.started": "2025-08-20T03:59:59.998209Z",
          "shell.execute_reply": "2025-08-20T04:00:00.011868Z"
        },
        "id": "0Sl5nel1CFDK",
        "outputId": "16c9a273-0d28-4ad5-bd9e-9717807ccbef"
      },
      "outputs": [
        {
          "execution_count": 5,
          "output_type": "execute_result",
          "data": {
            "text/plain": "0"
          },
          "metadata": {}
        }
      ],
      "execution_count": null
    },
    {
      "cell_type": "code",
      "source": [
        "df['Exited'].value_counts()"
      ],
      "metadata": {
        "trusted": true,
        "execution": {
          "iopub.status.busy": "2025-08-20T04:00:07.686239Z",
          "iopub.execute_input": "2025-08-20T04:00:07.687336Z",
          "iopub.status.idle": "2025-08-20T04:00:07.696384Z",
          "shell.execute_reply.started": "2025-08-20T04:00:07.687271Z",
          "shell.execute_reply": "2025-08-20T04:00:07.695525Z"
        },
        "id": "O4seNyoDCFDK",
        "outputId": "a7662d0d-aecb-4ba3-d149-f850e40707be"
      },
      "outputs": [
        {
          "execution_count": 6,
          "output_type": "execute_result",
          "data": {
            "text/plain": "Exited\n0    7963\n1    2037\nName: count, dtype: int64"
          },
          "metadata": {}
        }
      ],
      "execution_count": null
    },
    {
      "cell_type": "code",
      "source": [
        "df.drop(columns = ['RowNumber','CustomerId','Surname'],inplace=True)"
      ],
      "metadata": {
        "trusted": true,
        "execution": {
          "iopub.status.busy": "2025-08-20T04:00:16.260848Z",
          "iopub.execute_input": "2025-08-20T04:00:16.261197Z",
          "iopub.status.idle": "2025-08-20T04:00:16.270624Z",
          "shell.execute_reply.started": "2025-08-20T04:00:16.261172Z",
          "shell.execute_reply": "2025-08-20T04:00:16.269671Z"
        },
        "id": "kngJZW_8CFDK"
      },
      "outputs": [],
      "execution_count": null
    },
    {
      "cell_type": "code",
      "source": [
        "df.head()"
      ],
      "metadata": {
        "trusted": true,
        "execution": {
          "iopub.status.busy": "2025-08-20T04:00:22.553324Z",
          "iopub.execute_input": "2025-08-20T04:00:22.553608Z",
          "iopub.status.idle": "2025-08-20T04:00:22.566885Z",
          "shell.execute_reply.started": "2025-08-20T04:00:22.553587Z",
          "shell.execute_reply": "2025-08-20T04:00:22.565946Z"
        },
        "id": "MYawyqclCFDL",
        "outputId": "7f45776c-08e6-4a3d-b9af-e4e7b72daea7"
      },
      "outputs": [
        {
          "execution_count": 8,
          "output_type": "execute_result",
          "data": {
            "text/plain": "   CreditScore Geography  Gender  Age  Tenure    Balance  NumOfProducts  \\\n0          619    France  Female   42       2       0.00              1   \n1          608     Spain  Female   41       1   83807.86              1   \n2          502    France  Female   42       8  159660.80              3   \n3          699    France  Female   39       1       0.00              2   \n4          850     Spain  Female   43       2  125510.82              1   \n\n   HasCrCard  IsActiveMember  EstimatedSalary  Exited  \n0          1               1        101348.88       1  \n1          0               1        112542.58       0  \n2          1               0        113931.57       1  \n3          0               0         93826.63       0  \n4          1               1         79084.10       0  ",
            "text/html": "<div>\n<style scoped>\n    .dataframe tbody tr th:only-of-type {\n        vertical-align: middle;\n    }\n\n    .dataframe tbody tr th {\n        vertical-align: top;\n    }\n\n    .dataframe thead th {\n        text-align: right;\n    }\n</style>\n<table border=\"1\" class=\"dataframe\">\n  <thead>\n    <tr style=\"text-align: right;\">\n      <th></th>\n      <th>CreditScore</th>\n      <th>Geography</th>\n      <th>Gender</th>\n      <th>Age</th>\n      <th>Tenure</th>\n      <th>Balance</th>\n      <th>NumOfProducts</th>\n      <th>HasCrCard</th>\n      <th>IsActiveMember</th>\n      <th>EstimatedSalary</th>\n      <th>Exited</th>\n    </tr>\n  </thead>\n  <tbody>\n    <tr>\n      <th>0</th>\n      <td>619</td>\n      <td>France</td>\n      <td>Female</td>\n      <td>42</td>\n      <td>2</td>\n      <td>0.00</td>\n      <td>1</td>\n      <td>1</td>\n      <td>1</td>\n      <td>101348.88</td>\n      <td>1</td>\n    </tr>\n    <tr>\n      <th>1</th>\n      <td>608</td>\n      <td>Spain</td>\n      <td>Female</td>\n      <td>41</td>\n      <td>1</td>\n      <td>83807.86</td>\n      <td>1</td>\n      <td>0</td>\n      <td>1</td>\n      <td>112542.58</td>\n      <td>0</td>\n    </tr>\n    <tr>\n      <th>2</th>\n      <td>502</td>\n      <td>France</td>\n      <td>Female</td>\n      <td>42</td>\n      <td>8</td>\n      <td>159660.80</td>\n      <td>3</td>\n      <td>1</td>\n      <td>0</td>\n      <td>113931.57</td>\n      <td>1</td>\n    </tr>\n    <tr>\n      <th>3</th>\n      <td>699</td>\n      <td>France</td>\n      <td>Female</td>\n      <td>39</td>\n      <td>1</td>\n      <td>0.00</td>\n      <td>2</td>\n      <td>0</td>\n      <td>0</td>\n      <td>93826.63</td>\n      <td>0</td>\n    </tr>\n    <tr>\n      <th>4</th>\n      <td>850</td>\n      <td>Spain</td>\n      <td>Female</td>\n      <td>43</td>\n      <td>2</td>\n      <td>125510.82</td>\n      <td>1</td>\n      <td>1</td>\n      <td>1</td>\n      <td>79084.10</td>\n      <td>0</td>\n    </tr>\n  </tbody>\n</table>\n</div>"
          },
          "metadata": {}
        }
      ],
      "execution_count": null
    },
    {
      "cell_type": "code",
      "source": [
        "df['Geography'].value_counts()"
      ],
      "metadata": {
        "trusted": true,
        "execution": {
          "iopub.status.busy": "2025-08-20T04:00:31.40367Z",
          "iopub.execute_input": "2025-08-20T04:00:31.404277Z",
          "iopub.status.idle": "2025-08-20T04:00:31.411654Z",
          "shell.execute_reply.started": "2025-08-20T04:00:31.404248Z",
          "shell.execute_reply": "2025-08-20T04:00:31.410947Z"
        },
        "id": "YO4zQoAaCFDL",
        "outputId": "ed932e20-ec22-405b-cc34-56dd5543742d"
      },
      "outputs": [
        {
          "execution_count": 9,
          "output_type": "execute_result",
          "data": {
            "text/plain": "Geography\nFrance     5014\nGermany    2509\nSpain      2477\nName: count, dtype: int64"
          },
          "metadata": {}
        }
      ],
      "execution_count": null
    },
    {
      "cell_type": "code",
      "source": [
        "df['Gender'].value_counts()"
      ],
      "metadata": {
        "trusted": true,
        "execution": {
          "iopub.status.busy": "2025-08-20T04:00:38.761651Z",
          "iopub.execute_input": "2025-08-20T04:00:38.762009Z",
          "iopub.status.idle": "2025-08-20T04:00:38.770259Z",
          "shell.execute_reply.started": "2025-08-20T04:00:38.761984Z",
          "shell.execute_reply": "2025-08-20T04:00:38.769251Z"
        },
        "id": "3hrgs5JQCFDL",
        "outputId": "73de6d75-acb6-4a17-9124-14bb3978bb1c"
      },
      "outputs": [
        {
          "execution_count": 10,
          "output_type": "execute_result",
          "data": {
            "text/plain": "Gender\nMale      5457\nFemale    4543\nName: count, dtype: int64"
          },
          "metadata": {}
        }
      ],
      "execution_count": null
    },
    {
      "cell_type": "code",
      "source": [
        "df = pd.get_dummies(df,columns=['Geography','Gender'],drop_first=True)"
      ],
      "metadata": {
        "trusted": true,
        "execution": {
          "iopub.status.busy": "2025-08-20T04:01:11.19559Z",
          "iopub.execute_input": "2025-08-20T04:01:11.196513Z",
          "iopub.status.idle": "2025-08-20T04:01:11.210381Z",
          "shell.execute_reply.started": "2025-08-20T04:01:11.196474Z",
          "shell.execute_reply": "2025-08-20T04:01:11.20886Z"
        },
        "id": "dkQjLveyCFDL"
      },
      "outputs": [],
      "execution_count": null
    },
    {
      "cell_type": "code",
      "source": [
        "df.head()"
      ],
      "metadata": {
        "trusted": true,
        "execution": {
          "iopub.status.busy": "2025-08-20T04:01:17.460746Z",
          "iopub.execute_input": "2025-08-20T04:01:17.461574Z",
          "iopub.status.idle": "2025-08-20T04:01:17.474902Z",
          "shell.execute_reply.started": "2025-08-20T04:01:17.461546Z",
          "shell.execute_reply": "2025-08-20T04:01:17.474094Z"
        },
        "id": "GgoGBTVCCFDL",
        "outputId": "b7f39f35-e601-4934-c4ce-3e0b396c831d"
      },
      "outputs": [
        {
          "execution_count": 12,
          "output_type": "execute_result",
          "data": {
            "text/plain": "   CreditScore  Age  Tenure    Balance  NumOfProducts  HasCrCard  \\\n0          619   42       2       0.00              1          1   \n1          608   41       1   83807.86              1          0   \n2          502   42       8  159660.80              3          1   \n3          699   39       1       0.00              2          0   \n4          850   43       2  125510.82              1          1   \n\n   IsActiveMember  EstimatedSalary  Exited  Geography_Germany  \\\n0               1        101348.88       1              False   \n1               1        112542.58       0              False   \n2               0        113931.57       1              False   \n3               0         93826.63       0              False   \n4               1         79084.10       0              False   \n\n   Geography_Spain  Gender_Male  \n0            False        False  \n1             True        False  \n2            False        False  \n3            False        False  \n4             True        False  ",
            "text/html": "<div>\n<style scoped>\n    .dataframe tbody tr th:only-of-type {\n        vertical-align: middle;\n    }\n\n    .dataframe tbody tr th {\n        vertical-align: top;\n    }\n\n    .dataframe thead th {\n        text-align: right;\n    }\n</style>\n<table border=\"1\" class=\"dataframe\">\n  <thead>\n    <tr style=\"text-align: right;\">\n      <th></th>\n      <th>CreditScore</th>\n      <th>Age</th>\n      <th>Tenure</th>\n      <th>Balance</th>\n      <th>NumOfProducts</th>\n      <th>HasCrCard</th>\n      <th>IsActiveMember</th>\n      <th>EstimatedSalary</th>\n      <th>Exited</th>\n      <th>Geography_Germany</th>\n      <th>Geography_Spain</th>\n      <th>Gender_Male</th>\n    </tr>\n  </thead>\n  <tbody>\n    <tr>\n      <th>0</th>\n      <td>619</td>\n      <td>42</td>\n      <td>2</td>\n      <td>0.00</td>\n      <td>1</td>\n      <td>1</td>\n      <td>1</td>\n      <td>101348.88</td>\n      <td>1</td>\n      <td>False</td>\n      <td>False</td>\n      <td>False</td>\n    </tr>\n    <tr>\n      <th>1</th>\n      <td>608</td>\n      <td>41</td>\n      <td>1</td>\n      <td>83807.86</td>\n      <td>1</td>\n      <td>0</td>\n      <td>1</td>\n      <td>112542.58</td>\n      <td>0</td>\n      <td>False</td>\n      <td>True</td>\n      <td>False</td>\n    </tr>\n    <tr>\n      <th>2</th>\n      <td>502</td>\n      <td>42</td>\n      <td>8</td>\n      <td>159660.80</td>\n      <td>3</td>\n      <td>1</td>\n      <td>0</td>\n      <td>113931.57</td>\n      <td>1</td>\n      <td>False</td>\n      <td>False</td>\n      <td>False</td>\n    </tr>\n    <tr>\n      <th>3</th>\n      <td>699</td>\n      <td>39</td>\n      <td>1</td>\n      <td>0.00</td>\n      <td>2</td>\n      <td>0</td>\n      <td>0</td>\n      <td>93826.63</td>\n      <td>0</td>\n      <td>False</td>\n      <td>False</td>\n      <td>False</td>\n    </tr>\n    <tr>\n      <th>4</th>\n      <td>850</td>\n      <td>43</td>\n      <td>2</td>\n      <td>125510.82</td>\n      <td>1</td>\n      <td>1</td>\n      <td>1</td>\n      <td>79084.10</td>\n      <td>0</td>\n      <td>False</td>\n      <td>True</td>\n      <td>False</td>\n    </tr>\n  </tbody>\n</table>\n</div>"
          },
          "metadata": {}
        }
      ],
      "execution_count": null
    },
    {
      "cell_type": "code",
      "source": [
        "X = df.drop(columns=['Exited'])\n",
        "y = df['Exited'].values\n",
        "\n",
        "from sklearn.model_selection import train_test_split\n",
        "X_train,X_test,y_train,y_test = train_test_split(X,y,test_size=0.2,random_state=0)"
      ],
      "metadata": {
        "trusted": true,
        "execution": {
          "iopub.status.busy": "2025-08-20T04:01:23.156873Z",
          "iopub.execute_input": "2025-08-20T04:01:23.157202Z",
          "iopub.status.idle": "2025-08-20T04:01:23.935145Z",
          "shell.execute_reply.started": "2025-08-20T04:01:23.157177Z",
          "shell.execute_reply": "2025-08-20T04:01:23.934347Z"
        },
        "id": "-YE0z91GCFDL"
      },
      "outputs": [],
      "execution_count": null
    },
    {
      "cell_type": "code",
      "source": [
        "X"
      ],
      "metadata": {
        "trusted": true,
        "execution": {
          "iopub.status.busy": "2025-08-20T04:01:29.862072Z",
          "iopub.execute_input": "2025-08-20T04:01:29.862797Z",
          "iopub.status.idle": "2025-08-20T04:01:29.877321Z",
          "shell.execute_reply.started": "2025-08-20T04:01:29.862771Z",
          "shell.execute_reply": "2025-08-20T04:01:29.876458Z"
        },
        "id": "Q2NhZdGQCFDL",
        "outputId": "acf499b4-bf1f-451d-da5f-a3cbf40c17ae"
      },
      "outputs": [
        {
          "execution_count": 14,
          "output_type": "execute_result",
          "data": {
            "text/plain": "      CreditScore  Age  Tenure    Balance  NumOfProducts  HasCrCard  \\\n0             619   42       2       0.00              1          1   \n1             608   41       1   83807.86              1          0   \n2             502   42       8  159660.80              3          1   \n3             699   39       1       0.00              2          0   \n4             850   43       2  125510.82              1          1   \n...           ...  ...     ...        ...            ...        ...   \n9995          771   39       5       0.00              2          1   \n9996          516   35      10   57369.61              1          1   \n9997          709   36       7       0.00              1          0   \n9998          772   42       3   75075.31              2          1   \n9999          792   28       4  130142.79              1          1   \n\n      IsActiveMember  EstimatedSalary  Geography_Germany  Geography_Spain  \\\n0                  1        101348.88              False            False   \n1                  1        112542.58              False             True   \n2                  0        113931.57              False            False   \n3                  0         93826.63              False            False   \n4                  1         79084.10              False             True   \n...              ...              ...                ...              ...   \n9995               0         96270.64              False            False   \n9996               1        101699.77              False            False   \n9997               1         42085.58              False            False   \n9998               0         92888.52               True            False   \n9999               0         38190.78              False            False   \n\n      Gender_Male  \n0           False  \n1           False  \n2           False  \n3           False  \n4           False  \n...           ...  \n9995         True  \n9996         True  \n9997        False  \n9998         True  \n9999        False  \n\n[10000 rows x 11 columns]",
            "text/html": "<div>\n<style scoped>\n    .dataframe tbody tr th:only-of-type {\n        vertical-align: middle;\n    }\n\n    .dataframe tbody tr th {\n        vertical-align: top;\n    }\n\n    .dataframe thead th {\n        text-align: right;\n    }\n</style>\n<table border=\"1\" class=\"dataframe\">\n  <thead>\n    <tr style=\"text-align: right;\">\n      <th></th>\n      <th>CreditScore</th>\n      <th>Age</th>\n      <th>Tenure</th>\n      <th>Balance</th>\n      <th>NumOfProducts</th>\n      <th>HasCrCard</th>\n      <th>IsActiveMember</th>\n      <th>EstimatedSalary</th>\n      <th>Geography_Germany</th>\n      <th>Geography_Spain</th>\n      <th>Gender_Male</th>\n    </tr>\n  </thead>\n  <tbody>\n    <tr>\n      <th>0</th>\n      <td>619</td>\n      <td>42</td>\n      <td>2</td>\n      <td>0.00</td>\n      <td>1</td>\n      <td>1</td>\n      <td>1</td>\n      <td>101348.88</td>\n      <td>False</td>\n      <td>False</td>\n      <td>False</td>\n    </tr>\n    <tr>\n      <th>1</th>\n      <td>608</td>\n      <td>41</td>\n      <td>1</td>\n      <td>83807.86</td>\n      <td>1</td>\n      <td>0</td>\n      <td>1</td>\n      <td>112542.58</td>\n      <td>False</td>\n      <td>True</td>\n      <td>False</td>\n    </tr>\n    <tr>\n      <th>2</th>\n      <td>502</td>\n      <td>42</td>\n      <td>8</td>\n      <td>159660.80</td>\n      <td>3</td>\n      <td>1</td>\n      <td>0</td>\n      <td>113931.57</td>\n      <td>False</td>\n      <td>False</td>\n      <td>False</td>\n    </tr>\n    <tr>\n      <th>3</th>\n      <td>699</td>\n      <td>39</td>\n      <td>1</td>\n      <td>0.00</td>\n      <td>2</td>\n      <td>0</td>\n      <td>0</td>\n      <td>93826.63</td>\n      <td>False</td>\n      <td>False</td>\n      <td>False</td>\n    </tr>\n    <tr>\n      <th>4</th>\n      <td>850</td>\n      <td>43</td>\n      <td>2</td>\n      <td>125510.82</td>\n      <td>1</td>\n      <td>1</td>\n      <td>1</td>\n      <td>79084.10</td>\n      <td>False</td>\n      <td>True</td>\n      <td>False</td>\n    </tr>\n    <tr>\n      <th>...</th>\n      <td>...</td>\n      <td>...</td>\n      <td>...</td>\n      <td>...</td>\n      <td>...</td>\n      <td>...</td>\n      <td>...</td>\n      <td>...</td>\n      <td>...</td>\n      <td>...</td>\n      <td>...</td>\n    </tr>\n    <tr>\n      <th>9995</th>\n      <td>771</td>\n      <td>39</td>\n      <td>5</td>\n      <td>0.00</td>\n      <td>2</td>\n      <td>1</td>\n      <td>0</td>\n      <td>96270.64</td>\n      <td>False</td>\n      <td>False</td>\n      <td>True</td>\n    </tr>\n    <tr>\n      <th>9996</th>\n      <td>516</td>\n      <td>35</td>\n      <td>10</td>\n      <td>57369.61</td>\n      <td>1</td>\n      <td>1</td>\n      <td>1</td>\n      <td>101699.77</td>\n      <td>False</td>\n      <td>False</td>\n      <td>True</td>\n    </tr>\n    <tr>\n      <th>9997</th>\n      <td>709</td>\n      <td>36</td>\n      <td>7</td>\n      <td>0.00</td>\n      <td>1</td>\n      <td>0</td>\n      <td>1</td>\n      <td>42085.58</td>\n      <td>False</td>\n      <td>False</td>\n      <td>False</td>\n    </tr>\n    <tr>\n      <th>9998</th>\n      <td>772</td>\n      <td>42</td>\n      <td>3</td>\n      <td>75075.31</td>\n      <td>2</td>\n      <td>1</td>\n      <td>0</td>\n      <td>92888.52</td>\n      <td>True</td>\n      <td>False</td>\n      <td>True</td>\n    </tr>\n    <tr>\n      <th>9999</th>\n      <td>792</td>\n      <td>28</td>\n      <td>4</td>\n      <td>130142.79</td>\n      <td>1</td>\n      <td>1</td>\n      <td>0</td>\n      <td>38190.78</td>\n      <td>False</td>\n      <td>False</td>\n      <td>False</td>\n    </tr>\n  </tbody>\n</table>\n<p>10000 rows × 11 columns</p>\n</div>"
          },
          "metadata": {}
        }
      ],
      "execution_count": null
    },
    {
      "cell_type": "code",
      "source": [
        "y"
      ],
      "metadata": {
        "trusted": true,
        "execution": {
          "iopub.status.busy": "2025-08-20T04:01:33.456784Z",
          "iopub.execute_input": "2025-08-20T04:01:33.457152Z",
          "iopub.status.idle": "2025-08-20T04:01:33.463548Z",
          "shell.execute_reply.started": "2025-08-20T04:01:33.457127Z",
          "shell.execute_reply": "2025-08-20T04:01:33.462745Z"
        },
        "id": "4IeCr0oBCFDM",
        "outputId": "cda3a9ae-e716-4751-8d0d-5baca53e1e23"
      },
      "outputs": [
        {
          "execution_count": 15,
          "output_type": "execute_result",
          "data": {
            "text/plain": "array([1, 0, 1, ..., 1, 1, 0])"
          },
          "metadata": {}
        }
      ],
      "execution_count": null
    },
    {
      "cell_type": "code",
      "source": [
        "X_train.shape"
      ],
      "metadata": {
        "trusted": true,
        "execution": {
          "iopub.status.busy": "2025-08-20T04:01:41.443033Z",
          "iopub.execute_input": "2025-08-20T04:01:41.443383Z",
          "iopub.status.idle": "2025-08-20T04:01:41.449112Z",
          "shell.execute_reply.started": "2025-08-20T04:01:41.44336Z",
          "shell.execute_reply": "2025-08-20T04:01:41.448326Z"
        },
        "id": "FAWovsKWCFDM",
        "outputId": "362bfed2-1cc9-42b9-fede-26bce13b7d55"
      },
      "outputs": [
        {
          "execution_count": 16,
          "output_type": "execute_result",
          "data": {
            "text/plain": "(8000, 11)"
          },
          "metadata": {}
        }
      ],
      "execution_count": null
    },
    {
      "cell_type": "code",
      "source": [
        "y_train.shape"
      ],
      "metadata": {
        "trusted": true,
        "execution": {
          "iopub.status.busy": "2025-08-20T04:01:51.033002Z",
          "iopub.execute_input": "2025-08-20T04:01:51.033355Z",
          "iopub.status.idle": "2025-08-20T04:01:51.038803Z",
          "shell.execute_reply.started": "2025-08-20T04:01:51.033329Z",
          "shell.execute_reply": "2025-08-20T04:01:51.037857Z"
        },
        "id": "pqKpoGyoCFDM",
        "outputId": "411122e8-86e3-4fd8-8d50-ac1eb877027a"
      },
      "outputs": [
        {
          "execution_count": 17,
          "output_type": "execute_result",
          "data": {
            "text/plain": "(8000,)"
          },
          "metadata": {}
        }
      ],
      "execution_count": null
    },
    {
      "cell_type": "code",
      "source": [
        "from sklearn.preprocessing import StandardScaler\n",
        "scaler = StandardScaler()\n",
        "\n",
        "X_train_trf = scaler.fit_transform(X_train)\n",
        "X_test_trf = scaler.transform(X_test)"
      ],
      "metadata": {
        "trusted": true,
        "execution": {
          "iopub.status.busy": "2025-08-20T04:01:57.27616Z",
          "iopub.execute_input": "2025-08-20T04:01:57.276493Z",
          "iopub.status.idle": "2025-08-20T04:01:57.327098Z",
          "shell.execute_reply.started": "2025-08-20T04:01:57.27647Z",
          "shell.execute_reply": "2025-08-20T04:01:57.326241Z"
        },
        "id": "-UDqpUbUCFDM"
      },
      "outputs": [],
      "execution_count": null
    },
    {
      "cell_type": "code",
      "source": [
        "X_train_trf"
      ],
      "metadata": {
        "trusted": true,
        "execution": {
          "iopub.status.busy": "2025-08-20T04:02:05.124873Z",
          "iopub.execute_input": "2025-08-20T04:02:05.125192Z",
          "iopub.status.idle": "2025-08-20T04:02:05.132529Z",
          "shell.execute_reply.started": "2025-08-20T04:02:05.125171Z",
          "shell.execute_reply": "2025-08-20T04:02:05.131274Z"
        },
        "id": "OEkuY6CPCFDM",
        "outputId": "cad415c5-aff6-417c-d574-d5803ec81ed1"
      },
      "outputs": [
        {
          "execution_count": 19,
          "output_type": "execute_result",
          "data": {
            "text/plain": "array([[ 0.16958176, -0.46460796,  0.00666099, ..., -0.5698444 ,\n         1.74309049, -1.09168714],\n       [-2.30455945,  0.30102557, -1.37744033, ...,  1.75486502,\n        -0.57369368,  0.91601335],\n       [-1.19119591, -0.94312892, -1.031415  , ..., -0.5698444 ,\n        -0.57369368, -1.09168714],\n       ...,\n       [ 0.9015152 , -0.36890377,  0.00666099, ..., -0.5698444 ,\n        -0.57369368,  0.91601335],\n       [-0.62420521, -0.08179119,  1.39076231, ..., -0.5698444 ,\n         1.74309049, -1.09168714],\n       [-0.28401079,  0.87525072, -1.37744033, ...,  1.75486502,\n        -0.57369368, -1.09168714]])"
          },
          "metadata": {}
        }
      ],
      "execution_count": null
    },
    {
      "cell_type": "code",
      "source": [
        "X_test_trf"
      ],
      "metadata": {
        "trusted": true,
        "execution": {
          "iopub.status.busy": "2025-08-20T04:02:11.138453Z",
          "iopub.execute_input": "2025-08-20T04:02:11.138759Z",
          "iopub.status.idle": "2025-08-20T04:02:11.145132Z",
          "shell.execute_reply.started": "2025-08-20T04:02:11.138737Z",
          "shell.execute_reply": "2025-08-20T04:02:11.144217Z"
        },
        "id": "0j_qnp_eCFDM",
        "outputId": "32a03722-e682-4b7e-d1cb-7aa8914880ac"
      },
      "outputs": [
        {
          "execution_count": 20,
          "output_type": "execute_result",
          "data": {
            "text/plain": "array([[-0.55204276, -0.36890377,  1.04473698, ...,  1.75486502,\n        -0.57369368, -1.09168714],\n       [-1.31490297,  0.10961719, -1.031415  , ..., -0.5698444 ,\n        -0.57369368, -1.09168714],\n       [ 0.57162971,  0.30102557,  1.04473698, ..., -0.5698444 ,\n         1.74309049, -1.09168714],\n       ...,\n       [-0.74791227, -0.27319958, -1.37744033, ..., -0.5698444 ,\n         1.74309049,  0.91601335],\n       [-0.00566991, -0.46460796, -0.33936434, ...,  1.75486502,\n        -0.57369368,  0.91601335],\n       [-0.79945688, -0.84742473,  1.04473698, ...,  1.75486502,\n        -0.57369368,  0.91601335]])"
          },
          "metadata": {}
        }
      ],
      "execution_count": null
    },
    {
      "cell_type": "code",
      "source": [
        "import tensorflow\n",
        "from tensorflow import keras\n",
        "from tensorflow.keras import Sequential\n",
        "from tensorflow.keras.layers import Dense"
      ],
      "metadata": {
        "trusted": true,
        "execution": {
          "iopub.status.busy": "2025-08-20T04:02:17.992755Z",
          "iopub.execute_input": "2025-08-20T04:02:17.993337Z",
          "iopub.status.idle": "2025-08-20T04:02:35.260825Z",
          "shell.execute_reply.started": "2025-08-20T04:02:17.99331Z",
          "shell.execute_reply": "2025-08-20T04:02:35.260047Z"
        },
        "id": "JaiFprE_CFDM",
        "outputId": "0a036930-9e7a-4222-a4cb-03531d6e836a"
      },
      "outputs": [
        {
          "name": "stderr",
          "text": "2025-08-20 04:02:19.915425: E external/local_xla/xla/stream_executor/cuda/cuda_fft.cc:477] Unable to register cuFFT factory: Attempting to register factory for plugin cuFFT when one has already been registered\nWARNING: All log messages before absl::InitializeLog() is called are written to STDERR\nE0000 00:00:1755662540.170623      36 cuda_dnn.cc:8310] Unable to register cuDNN factory: Attempting to register factory for plugin cuDNN when one has already been registered\nE0000 00:00:1755662540.247601      36 cuda_blas.cc:1418] Unable to register cuBLAS factory: Attempting to register factory for plugin cuBLAS when one has already been registered\n",
          "output_type": "stream"
        }
      ],
      "execution_count": null
    },
    {
      "cell_type": "code",
      "source": [
        "model = Sequential()\n",
        "\n",
        "model.add(Dense(11,activation='sigmoid',input_dim=11))\n",
        "model.add(Dense(11,activation='sigmoid'))\n",
        "model.add(Dense(1,activation='sigmoid'))"
      ],
      "metadata": {
        "trusted": true,
        "execution": {
          "iopub.status.busy": "2025-08-20T04:02:35.262008Z",
          "iopub.execute_input": "2025-08-20T04:02:35.262578Z",
          "iopub.status.idle": "2025-08-20T04:02:35.357066Z",
          "shell.execute_reply.started": "2025-08-20T04:02:35.262551Z",
          "shell.execute_reply": "2025-08-20T04:02:35.356237Z"
        },
        "id": "sN3Gto5hCFDM",
        "outputId": "f66d9c88-ea2f-4abb-e8a6-6ba0a9be2270"
      },
      "outputs": [
        {
          "name": "stderr",
          "text": "/usr/local/lib/python3.11/dist-packages/keras/src/layers/core/dense.py:87: UserWarning: Do not pass an `input_shape`/`input_dim` argument to a layer. When using Sequential models, prefer using an `Input(shape)` object as the first layer in the model instead.\n  super().__init__(activity_regularizer=activity_regularizer, **kwargs)\n2025-08-20 04:02:35.273314: E external/local_xla/xla/stream_executor/cuda/cuda_driver.cc:152] failed call to cuInit: INTERNAL: CUDA error: Failed call to cuInit: UNKNOWN ERROR (303)\n",
          "output_type": "stream"
        }
      ],
      "execution_count": null
    },
    {
      "cell_type": "code",
      "source": [
        "model.summary()"
      ],
      "metadata": {
        "trusted": true,
        "execution": {
          "iopub.status.busy": "2025-08-20T04:02:54.861019Z",
          "iopub.execute_input": "2025-08-20T04:02:54.861879Z",
          "iopub.status.idle": "2025-08-20T04:02:54.879424Z",
          "shell.execute_reply.started": "2025-08-20T04:02:54.861852Z",
          "shell.execute_reply": "2025-08-20T04:02:54.878399Z"
        },
        "id": "XFiYtWuACFDM",
        "outputId": "f2301ace-503d-4953-afc6-1e886d0d8a42"
      },
      "outputs": [
        {
          "output_type": "display_data",
          "data": {
            "text/plain": "\u001b[1mModel: \"sequential\"\u001b[0m\n",
            "text/html": "<pre style=\"white-space:pre;overflow-x:auto;line-height:normal;font-family:Menlo,'DejaVu Sans Mono',consolas,'Courier New',monospace\"><span style=\"font-weight: bold\">Model: \"sequential\"</span>\n</pre>\n"
          },
          "metadata": {}
        },
        {
          "output_type": "display_data",
          "data": {
            "text/plain": "┏━━━━━━━━━━━━━━━━━━━━━━━━━━━━━━━━━┳━━━━━━━━━━━━━━━━━━━━━━━━┳━━━━━━━━━━━━━━━┓\n┃\u001b[1m \u001b[0m\u001b[1mLayer (type)                   \u001b[0m\u001b[1m \u001b[0m┃\u001b[1m \u001b[0m\u001b[1mOutput Shape          \u001b[0m\u001b[1m \u001b[0m┃\u001b[1m \u001b[0m\u001b[1m      Param #\u001b[0m\u001b[1m \u001b[0m┃\n┡━━━━━━━━━━━━━━━━━━━━━━━━━━━━━━━━━╇━━━━━━━━━━━━━━━━━━━━━━━━╇━━━━━━━━━━━━━━━┩\n│ dense (\u001b[38;5;33mDense\u001b[0m)                   │ (\u001b[38;5;45mNone\u001b[0m, \u001b[38;5;34m11\u001b[0m)             │           \u001b[38;5;34m132\u001b[0m │\n├─────────────────────────────────┼────────────────────────┼───────────────┤\n│ dense_1 (\u001b[38;5;33mDense\u001b[0m)                 │ (\u001b[38;5;45mNone\u001b[0m, \u001b[38;5;34m11\u001b[0m)             │           \u001b[38;5;34m132\u001b[0m │\n├─────────────────────────────────┼────────────────────────┼───────────────┤\n│ dense_2 (\u001b[38;5;33mDense\u001b[0m)                 │ (\u001b[38;5;45mNone\u001b[0m, \u001b[38;5;34m1\u001b[0m)              │            \u001b[38;5;34m12\u001b[0m │\n└─────────────────────────────────┴────────────────────────┴───────────────┘\n",
            "text/html": "<pre style=\"white-space:pre;overflow-x:auto;line-height:normal;font-family:Menlo,'DejaVu Sans Mono',consolas,'Courier New',monospace\">┏━━━━━━━━━━━━━━━━━━━━━━━━━━━━━━━━━┳━━━━━━━━━━━━━━━━━━━━━━━━┳━━━━━━━━━━━━━━━┓\n┃<span style=\"font-weight: bold\"> Layer (type)                    </span>┃<span style=\"font-weight: bold\"> Output Shape           </span>┃<span style=\"font-weight: bold\">       Param # </span>┃\n┡━━━━━━━━━━━━━━━━━━━━━━━━━━━━━━━━━╇━━━━━━━━━━━━━━━━━━━━━━━━╇━━━━━━━━━━━━━━━┩\n│ dense (<span style=\"color: #0087ff; text-decoration-color: #0087ff\">Dense</span>)                   │ (<span style=\"color: #00d7ff; text-decoration-color: #00d7ff\">None</span>, <span style=\"color: #00af00; text-decoration-color: #00af00\">11</span>)             │           <span style=\"color: #00af00; text-decoration-color: #00af00\">132</span> │\n├─────────────────────────────────┼────────────────────────┼───────────────┤\n│ dense_1 (<span style=\"color: #0087ff; text-decoration-color: #0087ff\">Dense</span>)                 │ (<span style=\"color: #00d7ff; text-decoration-color: #00d7ff\">None</span>, <span style=\"color: #00af00; text-decoration-color: #00af00\">11</span>)             │           <span style=\"color: #00af00; text-decoration-color: #00af00\">132</span> │\n├─────────────────────────────────┼────────────────────────┼───────────────┤\n│ dense_2 (<span style=\"color: #0087ff; text-decoration-color: #0087ff\">Dense</span>)                 │ (<span style=\"color: #00d7ff; text-decoration-color: #00d7ff\">None</span>, <span style=\"color: #00af00; text-decoration-color: #00af00\">1</span>)              │            <span style=\"color: #00af00; text-decoration-color: #00af00\">12</span> │\n└─────────────────────────────────┴────────────────────────┴───────────────┘\n</pre>\n"
          },
          "metadata": {}
        },
        {
          "output_type": "display_data",
          "data": {
            "text/plain": "\u001b[1m Total params: \u001b[0m\u001b[38;5;34m276\u001b[0m (1.08 KB)\n",
            "text/html": "<pre style=\"white-space:pre;overflow-x:auto;line-height:normal;font-family:Menlo,'DejaVu Sans Mono',consolas,'Courier New',monospace\"><span style=\"font-weight: bold\"> Total params: </span><span style=\"color: #00af00; text-decoration-color: #00af00\">276</span> (1.08 KB)\n</pre>\n"
          },
          "metadata": {}
        },
        {
          "output_type": "display_data",
          "data": {
            "text/plain": "\u001b[1m Trainable params: \u001b[0m\u001b[38;5;34m276\u001b[0m (1.08 KB)\n",
            "text/html": "<pre style=\"white-space:pre;overflow-x:auto;line-height:normal;font-family:Menlo,'DejaVu Sans Mono',consolas,'Courier New',monospace\"><span style=\"font-weight: bold\"> Trainable params: </span><span style=\"color: #00af00; text-decoration-color: #00af00\">276</span> (1.08 KB)\n</pre>\n"
          },
          "metadata": {}
        },
        {
          "output_type": "display_data",
          "data": {
            "text/plain": "\u001b[1m Non-trainable params: \u001b[0m\u001b[38;5;34m0\u001b[0m (0.00 B)\n",
            "text/html": "<pre style=\"white-space:pre;overflow-x:auto;line-height:normal;font-family:Menlo,'DejaVu Sans Mono',consolas,'Courier New',monospace\"><span style=\"font-weight: bold\"> Non-trainable params: </span><span style=\"color: #00af00; text-decoration-color: #00af00\">0</span> (0.00 B)\n</pre>\n"
          },
          "metadata": {}
        }
      ],
      "execution_count": null
    },
    {
      "cell_type": "code",
      "source": [
        "model.compile(optimizer='Adam',loss='binary_crossentropy',metrics=['accuracy'])"
      ],
      "metadata": {
        "trusted": true,
        "execution": {
          "iopub.status.busy": "2025-08-20T04:03:01.295615Z",
          "iopub.execute_input": "2025-08-20T04:03:01.295922Z",
          "iopub.status.idle": "2025-08-20T04:03:01.313765Z",
          "shell.execute_reply.started": "2025-08-20T04:03:01.295901Z",
          "shell.execute_reply": "2025-08-20T04:03:01.312735Z"
        },
        "id": "qKrrRwikCFDM"
      },
      "outputs": [],
      "execution_count": null
    },
    {
      "cell_type": "code",
      "source": [
        "history = model.fit(X_train,y_train,batch_size=50,epochs=100,verbose=1,validation_split=0.2)"
      ],
      "metadata": {
        "trusted": true,
        "execution": {
          "iopub.status.busy": "2025-08-20T04:03:07.322713Z",
          "iopub.execute_input": "2025-08-20T04:03:07.323064Z",
          "iopub.status.idle": "2025-08-20T04:03:45.197439Z",
          "shell.execute_reply.started": "2025-08-20T04:03:07.32304Z",
          "shell.execute_reply": "2025-08-20T04:03:45.196541Z"
        },
        "id": "yghIkyvyCFDM",
        "outputId": "ea3618a0-1351-415f-85c2-31a436294ad9"
      },
      "outputs": [
        {
          "name": "stdout",
          "text": "Epoch 1/100\n\u001b[1m128/128\u001b[0m \u001b[32m━━━━━━━━━━━━━━━━━━━━\u001b[0m\u001b[37m\u001b[0m \u001b[1m2s\u001b[0m 5ms/step - accuracy: 0.7932 - loss: 0.5837 - val_accuracy: 0.7969 - val_loss: 0.5080\nEpoch 2/100\n\u001b[1m128/128\u001b[0m \u001b[32m━━━━━━━━━━━━━━━━━━━━\u001b[0m\u001b[37m\u001b[0m \u001b[1m0s\u001b[0m 3ms/step - accuracy: 0.7961 - loss: 0.5061 - val_accuracy: 0.7969 - val_loss: 0.5011\nEpoch 3/100\n\u001b[1m128/128\u001b[0m \u001b[32m━━━━━━━━━━━━━━━━━━━━\u001b[0m\u001b[37m\u001b[0m \u001b[1m0s\u001b[0m 3ms/step - accuracy: 0.8009 - loss: 0.4944 - val_accuracy: 0.7969 - val_loss: 0.4986\nEpoch 4/100\n\u001b[1m128/128\u001b[0m \u001b[32m━━━━━━━━━━━━━━━━━━━━\u001b[0m\u001b[37m\u001b[0m \u001b[1m0s\u001b[0m 3ms/step - accuracy: 0.7929 - loss: 0.5030 - val_accuracy: 0.7969 - val_loss: 0.4972\nEpoch 5/100\n\u001b[1m128/128\u001b[0m \u001b[32m━━━━━━━━━━━━━━━━━━━━\u001b[0m\u001b[37m\u001b[0m \u001b[1m0s\u001b[0m 3ms/step - accuracy: 0.8012 - loss: 0.4904 - val_accuracy: 0.7969 - val_loss: 0.4967\nEpoch 6/100\n\u001b[1m128/128\u001b[0m \u001b[32m━━━━━━━━━━━━━━━━━━━━\u001b[0m\u001b[37m\u001b[0m \u001b[1m0s\u001b[0m 3ms/step - accuracy: 0.7948 - loss: 0.5017 - val_accuracy: 0.7969 - val_loss: 0.4962\nEpoch 7/100\n\u001b[1m128/128\u001b[0m \u001b[32m━━━━━━━━━━━━━━━━━━━━\u001b[0m\u001b[37m\u001b[0m \u001b[1m0s\u001b[0m 3ms/step - accuracy: 0.7893 - loss: 0.5090 - val_accuracy: 0.7969 - val_loss: 0.4959\nEpoch 8/100\n\u001b[1m128/128\u001b[0m \u001b[32m━━━━━━━━━━━━━━━━━━━━\u001b[0m\u001b[37m\u001b[0m \u001b[1m0s\u001b[0m 3ms/step - accuracy: 0.7866 - loss: 0.5135 - val_accuracy: 0.7969 - val_loss: 0.4959\nEpoch 9/100\n\u001b[1m128/128\u001b[0m \u001b[32m━━━━━━━━━━━━━━━━━━━━\u001b[0m\u001b[37m\u001b[0m \u001b[1m0s\u001b[0m 3ms/step - accuracy: 0.7940 - loss: 0.5024 - val_accuracy: 0.7969 - val_loss: 0.4955\nEpoch 10/100\n\u001b[1m128/128\u001b[0m \u001b[32m━━━━━━━━━━━━━━━━━━━━\u001b[0m\u001b[37m\u001b[0m \u001b[1m0s\u001b[0m 3ms/step - accuracy: 0.8023 - loss: 0.4920 - val_accuracy: 0.7969 - val_loss: 0.4955\nEpoch 11/100\n\u001b[1m128/128\u001b[0m \u001b[32m━━━━━━━━━━━━━━━━━━━━\u001b[0m\u001b[37m\u001b[0m \u001b[1m0s\u001b[0m 3ms/step - accuracy: 0.7939 - loss: 0.4999 - val_accuracy: 0.7969 - val_loss: 0.4954\nEpoch 12/100\n\u001b[1m128/128\u001b[0m \u001b[32m━━━━━━━━━━━━━━━━━━━━\u001b[0m\u001b[37m\u001b[0m \u001b[1m0s\u001b[0m 3ms/step - accuracy: 0.7994 - loss: 0.4945 - val_accuracy: 0.7969 - val_loss: 0.4953\nEpoch 13/100\n\u001b[1m128/128\u001b[0m \u001b[32m━━━━━━━━━━━━━━━━━━━━\u001b[0m\u001b[37m\u001b[0m \u001b[1m0s\u001b[0m 3ms/step - accuracy: 0.7921 - loss: 0.5040 - val_accuracy: 0.7969 - val_loss: 0.4954\nEpoch 14/100\n\u001b[1m128/128\u001b[0m \u001b[32m━━━━━━━━━━━━━━━━━━━━\u001b[0m\u001b[37m\u001b[0m \u001b[1m0s\u001b[0m 3ms/step - accuracy: 0.7969 - loss: 0.4978 - val_accuracy: 0.7969 - val_loss: 0.4952\nEpoch 15/100\n\u001b[1m128/128\u001b[0m \u001b[32m━━━━━━━━━━━━━━━━━━━━\u001b[0m\u001b[37m\u001b[0m \u001b[1m0s\u001b[0m 3ms/step - accuracy: 0.8009 - loss: 0.4952 - val_accuracy: 0.7969 - val_loss: 0.4951\nEpoch 16/100\n\u001b[1m128/128\u001b[0m \u001b[32m━━━━━━━━━━━━━━━━━━━━\u001b[0m\u001b[37m\u001b[0m \u001b[1m0s\u001b[0m 3ms/step - accuracy: 0.8000 - loss: 0.4932 - val_accuracy: 0.7969 - val_loss: 0.4951\nEpoch 17/100\n\u001b[1m128/128\u001b[0m \u001b[32m━━━━━━━━━━━━━━━━━━━━\u001b[0m\u001b[37m\u001b[0m \u001b[1m0s\u001b[0m 2ms/step - accuracy: 0.7968 - loss: 0.4945 - val_accuracy: 0.7969 - val_loss: 0.4951\nEpoch 18/100\n\u001b[1m128/128\u001b[0m \u001b[32m━━━━━━━━━━━━━━━━━━━━\u001b[0m\u001b[37m\u001b[0m \u001b[1m0s\u001b[0m 3ms/step - accuracy: 0.8003 - loss: 0.4949 - val_accuracy: 0.7969 - val_loss: 0.4951\nEpoch 19/100\n\u001b[1m128/128\u001b[0m \u001b[32m━━━━━━━━━━━━━━━━━━━━\u001b[0m\u001b[37m\u001b[0m \u001b[1m0s\u001b[0m 3ms/step - accuracy: 0.8000 - loss: 0.4915 - val_accuracy: 0.7969 - val_loss: 0.4951\nEpoch 20/100\n\u001b[1m128/128\u001b[0m \u001b[32m━━━━━━━━━━━━━━━━━━━━\u001b[0m\u001b[37m\u001b[0m \u001b[1m0s\u001b[0m 3ms/step - accuracy: 0.8002 - loss: 0.4920 - val_accuracy: 0.7969 - val_loss: 0.4951\nEpoch 21/100\n\u001b[1m128/128\u001b[0m \u001b[32m━━━━━━━━━━━━━━━━━━━━\u001b[0m\u001b[37m\u001b[0m \u001b[1m0s\u001b[0m 3ms/step - accuracy: 0.7957 - loss: 0.5011 - val_accuracy: 0.7969 - val_loss: 0.4950\nEpoch 22/100\n\u001b[1m128/128\u001b[0m \u001b[32m━━━━━━━━━━━━━━━━━━━━\u001b[0m\u001b[37m\u001b[0m \u001b[1m0s\u001b[0m 3ms/step - accuracy: 0.7973 - loss: 0.4987 - val_accuracy: 0.7969 - val_loss: 0.4950\nEpoch 23/100\n\u001b[1m128/128\u001b[0m \u001b[32m━━━━━━━━━━━━━━━━━━━━\u001b[0m\u001b[37m\u001b[0m \u001b[1m0s\u001b[0m 3ms/step - accuracy: 0.7993 - loss: 0.4928 - val_accuracy: 0.7969 - val_loss: 0.4950\nEpoch 24/100\n\u001b[1m128/128\u001b[0m \u001b[32m━━━━━━━━━━━━━━━━━━━━\u001b[0m\u001b[37m\u001b[0m \u001b[1m0s\u001b[0m 3ms/step - accuracy: 0.7966 - loss: 0.4966 - val_accuracy: 0.7969 - val_loss: 0.4950\nEpoch 25/100\n\u001b[1m128/128\u001b[0m \u001b[32m━━━━━━━━━━━━━━━━━━━━\u001b[0m\u001b[37m\u001b[0m \u001b[1m0s\u001b[0m 3ms/step - accuracy: 0.7982 - loss: 0.4971 - val_accuracy: 0.7969 - val_loss: 0.4949\nEpoch 26/100\n\u001b[1m128/128\u001b[0m \u001b[32m━━━━━━━━━━━━━━━━━━━━\u001b[0m\u001b[37m\u001b[0m \u001b[1m0s\u001b[0m 3ms/step - accuracy: 0.7907 - loss: 0.5035 - val_accuracy: 0.7969 - val_loss: 0.4951\nEpoch 27/100\n\u001b[1m128/128\u001b[0m \u001b[32m━━━━━━━━━━━━━━━━━━━━\u001b[0m\u001b[37m\u001b[0m \u001b[1m0s\u001b[0m 3ms/step - accuracy: 0.7942 - loss: 0.5033 - val_accuracy: 0.7969 - val_loss: 0.4949\nEpoch 28/100\n\u001b[1m128/128\u001b[0m \u001b[32m━━━━━━━━━━━━━━━━━━━━\u001b[0m\u001b[37m\u001b[0m \u001b[1m0s\u001b[0m 3ms/step - accuracy: 0.7988 - loss: 0.4971 - val_accuracy: 0.7969 - val_loss: 0.4949\nEpoch 29/100\n\u001b[1m128/128\u001b[0m \u001b[32m━━━━━━━━━━━━━━━━━━━━\u001b[0m\u001b[37m\u001b[0m \u001b[1m0s\u001b[0m 3ms/step - accuracy: 0.8010 - loss: 0.4966 - val_accuracy: 0.7969 - val_loss: 0.4948\nEpoch 30/100\n\u001b[1m128/128\u001b[0m \u001b[32m━━━━━━━━━━━━━━━━━━━━\u001b[0m\u001b[37m\u001b[0m \u001b[1m0s\u001b[0m 3ms/step - accuracy: 0.7900 - loss: 0.5079 - val_accuracy: 0.7969 - val_loss: 0.4947\nEpoch 31/100\n\u001b[1m128/128\u001b[0m \u001b[32m━━━━━━━━━━━━━━━━━━━━\u001b[0m\u001b[37m\u001b[0m \u001b[1m0s\u001b[0m 3ms/step - accuracy: 0.7945 - loss: 0.5019 - val_accuracy: 0.7969 - val_loss: 0.4947\nEpoch 32/100\n\u001b[1m128/128\u001b[0m \u001b[32m━━━━━━━━━━━━━━━━━━━━\u001b[0m\u001b[37m\u001b[0m \u001b[1m0s\u001b[0m 3ms/step - accuracy: 0.7977 - loss: 0.4947 - val_accuracy: 0.7969 - val_loss: 0.4948\nEpoch 33/100\n\u001b[1m128/128\u001b[0m \u001b[32m━━━━━━━━━━━━━━━━━━━━\u001b[0m\u001b[37m\u001b[0m \u001b[1m0s\u001b[0m 3ms/step - accuracy: 0.7989 - loss: 0.4948 - val_accuracy: 0.7969 - val_loss: 0.4949\nEpoch 34/100\n\u001b[1m128/128\u001b[0m \u001b[32m━━━━━━━━━━━━━━━━━━━━\u001b[0m\u001b[37m\u001b[0m \u001b[1m0s\u001b[0m 3ms/step - accuracy: 0.7917 - loss: 0.5026 - val_accuracy: 0.7969 - val_loss: 0.4949\nEpoch 35/100\n\u001b[1m128/128\u001b[0m \u001b[32m━━━━━━━━━━━━━━━━━━━━\u001b[0m\u001b[37m\u001b[0m \u001b[1m0s\u001b[0m 3ms/step - accuracy: 0.8001 - loss: 0.4912 - val_accuracy: 0.7969 - val_loss: 0.4949\nEpoch 36/100\n\u001b[1m128/128\u001b[0m \u001b[32m━━━━━━━━━━━━━━━━━━━━\u001b[0m\u001b[37m\u001b[0m \u001b[1m0s\u001b[0m 3ms/step - accuracy: 0.7993 - loss: 0.4949 - val_accuracy: 0.7969 - val_loss: 0.4947\nEpoch 37/100\n\u001b[1m128/128\u001b[0m \u001b[32m━━━━━━━━━━━━━━━━━━━━\u001b[0m\u001b[37m\u001b[0m \u001b[1m0s\u001b[0m 3ms/step - accuracy: 0.7991 - loss: 0.4949 - val_accuracy: 0.7969 - val_loss: 0.4948\nEpoch 38/100\n\u001b[1m128/128\u001b[0m \u001b[32m━━━━━━━━━━━━━━━━━━━━\u001b[0m\u001b[37m\u001b[0m \u001b[1m0s\u001b[0m 3ms/step - accuracy: 0.7951 - loss: 0.5005 - val_accuracy: 0.7969 - val_loss: 0.4948\nEpoch 39/100\n\u001b[1m128/128\u001b[0m \u001b[32m━━━━━━━━━━━━━━━━━━━━\u001b[0m\u001b[37m\u001b[0m \u001b[1m0s\u001b[0m 2ms/step - accuracy: 0.7958 - loss: 0.4991 - val_accuracy: 0.7969 - val_loss: 0.4948\nEpoch 40/100\n\u001b[1m128/128\u001b[0m \u001b[32m━━━━━━━━━━━━━━━━━━━━\u001b[0m\u001b[37m\u001b[0m \u001b[1m0s\u001b[0m 3ms/step - accuracy: 0.7954 - loss: 0.4999 - val_accuracy: 0.7969 - val_loss: 0.4947\nEpoch 41/100\n\u001b[1m128/128\u001b[0m \u001b[32m━━━━━━━━━━━━━━━━━━━━\u001b[0m\u001b[37m\u001b[0m \u001b[1m0s\u001b[0m 3ms/step - accuracy: 0.7959 - loss: 0.5006 - val_accuracy: 0.7969 - val_loss: 0.4947\nEpoch 42/100\n\u001b[1m128/128\u001b[0m \u001b[32m━━━━━━━━━━━━━━━━━━━━\u001b[0m\u001b[37m\u001b[0m \u001b[1m0s\u001b[0m 3ms/step - accuracy: 0.8000 - loss: 0.4923 - val_accuracy: 0.7969 - val_loss: 0.4948\nEpoch 43/100\n\u001b[1m128/128\u001b[0m \u001b[32m━━━━━━━━━━━━━━━━━━━━\u001b[0m\u001b[37m\u001b[0m \u001b[1m0s\u001b[0m 3ms/step - accuracy: 0.7952 - loss: 0.4977 - val_accuracy: 0.7969 - val_loss: 0.4948\nEpoch 44/100\n\u001b[1m128/128\u001b[0m \u001b[32m━━━━━━━━━━━━━━━━━━━━\u001b[0m\u001b[37m\u001b[0m \u001b[1m0s\u001b[0m 3ms/step - accuracy: 0.7914 - loss: 0.5037 - val_accuracy: 0.7969 - val_loss: 0.4949\nEpoch 45/100\n\u001b[1m128/128\u001b[0m \u001b[32m━━━━━━━━━━━━━━━━━━━━\u001b[0m\u001b[37m\u001b[0m \u001b[1m0s\u001b[0m 3ms/step - accuracy: 0.7973 - loss: 0.4956 - val_accuracy: 0.7969 - val_loss: 0.4949\nEpoch 46/100\n\u001b[1m128/128\u001b[0m \u001b[32m━━━━━━━━━━━━━━━━━━━━\u001b[0m\u001b[37m\u001b[0m \u001b[1m0s\u001b[0m 3ms/step - accuracy: 0.7984 - loss: 0.4960 - val_accuracy: 0.7969 - val_loss: 0.4948\nEpoch 47/100\n\u001b[1m128/128\u001b[0m \u001b[32m━━━━━━━━━━━━━━━━━━━━\u001b[0m\u001b[37m\u001b[0m \u001b[1m0s\u001b[0m 3ms/step - accuracy: 0.8039 - loss: 0.4877 - val_accuracy: 0.7969 - val_loss: 0.4949\nEpoch 48/100\n\u001b[1m128/128\u001b[0m \u001b[32m━━━━━━━━━━━━━━━━━━━━\u001b[0m\u001b[37m\u001b[0m \u001b[1m0s\u001b[0m 3ms/step - accuracy: 0.7966 - loss: 0.4985 - val_accuracy: 0.7969 - val_loss: 0.4947\nEpoch 49/100\n\u001b[1m128/128\u001b[0m \u001b[32m━━━━━━━━━━━━━━━━━━━━\u001b[0m\u001b[37m\u001b[0m \u001b[1m0s\u001b[0m 3ms/step - accuracy: 0.7926 - loss: 0.5037 - val_accuracy: 0.7969 - val_loss: 0.4948\nEpoch 50/100\n\u001b[1m128/128\u001b[0m \u001b[32m━━━━━━━━━━━━━━━━━━━━\u001b[0m\u001b[37m\u001b[0m \u001b[1m0s\u001b[0m 3ms/step - accuracy: 0.7986 - loss: 0.4953 - val_accuracy: 0.7969 - val_loss: 0.4947\nEpoch 51/100\n\u001b[1m128/128\u001b[0m \u001b[32m━━━━━━━━━━━━━━━━━━━━\u001b[0m\u001b[37m\u001b[0m \u001b[1m0s\u001b[0m 3ms/step - accuracy: 0.7932 - loss: 0.5026 - val_accuracy: 0.7969 - val_loss: 0.4948\nEpoch 52/100\n\u001b[1m128/128\u001b[0m \u001b[32m━━━━━━━━━━━━━━━━━━━━\u001b[0m\u001b[37m\u001b[0m \u001b[1m0s\u001b[0m 3ms/step - accuracy: 0.7970 - loss: 0.4979 - val_accuracy: 0.7969 - val_loss: 0.4947\nEpoch 53/100\n\u001b[1m128/128\u001b[0m \u001b[32m━━━━━━━━━━━━━━━━━━━━\u001b[0m\u001b[37m\u001b[0m \u001b[1m0s\u001b[0m 3ms/step - accuracy: 0.7948 - loss: 0.4996 - val_accuracy: 0.7969 - val_loss: 0.4947\nEpoch 54/100\n\u001b[1m128/128\u001b[0m \u001b[32m━━━━━━━━━━━━━━━━━━━━\u001b[0m\u001b[37m\u001b[0m \u001b[1m0s\u001b[0m 3ms/step - accuracy: 0.7922 - loss: 0.5018 - val_accuracy: 0.7969 - val_loss: 0.4948\nEpoch 55/100\n\u001b[1m128/128\u001b[0m \u001b[32m━━━━━━━━━━━━━━━━━━━━\u001b[0m\u001b[37m\u001b[0m \u001b[1m0s\u001b[0m 3ms/step - accuracy: 0.7996 - loss: 0.4922 - val_accuracy: 0.7969 - val_loss: 0.4949\nEpoch 56/100\n\u001b[1m128/128\u001b[0m \u001b[32m━━━━━━━━━━━━━━━━━━━━\u001b[0m\u001b[37m\u001b[0m \u001b[1m0s\u001b[0m 3ms/step - accuracy: 0.7948 - loss: 0.4998 - val_accuracy: 0.7969 - val_loss: 0.4948\nEpoch 57/100\n\u001b[1m128/128\u001b[0m \u001b[32m━━━━━━━━━━━━━━━━━━━━\u001b[0m\u001b[37m\u001b[0m \u001b[1m0s\u001b[0m 3ms/step - accuracy: 0.7949 - loss: 0.5029 - val_accuracy: 0.7969 - val_loss: 0.4947\nEpoch 58/100\n\u001b[1m128/128\u001b[0m \u001b[32m━━━━━━━━━━━━━━━━━━━━\u001b[0m\u001b[37m\u001b[0m \u001b[1m0s\u001b[0m 3ms/step - accuracy: 0.7915 - loss: 0.5046 - val_accuracy: 0.7969 - val_loss: 0.4947\nEpoch 59/100\n\u001b[1m128/128\u001b[0m \u001b[32m━━━━━━━━━━━━━━━━━━━━\u001b[0m\u001b[37m\u001b[0m \u001b[1m0s\u001b[0m 3ms/step - accuracy: 0.7943 - loss: 0.5025 - val_accuracy: 0.7969 - val_loss: 0.4947\nEpoch 60/100\n\u001b[1m128/128\u001b[0m \u001b[32m━━━━━━━━━━━━━━━━━━━━\u001b[0m\u001b[37m\u001b[0m \u001b[1m0s\u001b[0m 3ms/step - accuracy: 0.7955 - loss: 0.4998 - val_accuracy: 0.7969 - val_loss: 0.4946\nEpoch 61/100\n\u001b[1m128/128\u001b[0m \u001b[32m━━━━━━━━━━━━━━━━━━━━\u001b[0m\u001b[37m\u001b[0m \u001b[1m0s\u001b[0m 3ms/step - accuracy: 0.7971 - loss: 0.4978 - val_accuracy: 0.7969 - val_loss: 0.4947\nEpoch 62/100\n\u001b[1m128/128\u001b[0m \u001b[32m━━━━━━━━━━━━━━━━━━━━\u001b[0m\u001b[37m\u001b[0m \u001b[1m0s\u001b[0m 3ms/step - accuracy: 0.7938 - loss: 0.5021 - val_accuracy: 0.7969 - val_loss: 0.4948\nEpoch 63/100\n\u001b[1m128/128\u001b[0m \u001b[32m━━━━━━━━━━━━━━━━━━━━\u001b[0m\u001b[37m\u001b[0m \u001b[1m0s\u001b[0m 3ms/step - accuracy: 0.8013 - loss: 0.4894 - val_accuracy: 0.7969 - val_loss: 0.4947\nEpoch 64/100\n\u001b[1m128/128\u001b[0m \u001b[32m━━━━━━━━━━━━━━━━━━━━\u001b[0m\u001b[37m\u001b[0m \u001b[1m0s\u001b[0m 2ms/step - accuracy: 0.8003 - loss: 0.4938 - val_accuracy: 0.7969 - val_loss: 0.4948\nEpoch 65/100\n\u001b[1m128/128\u001b[0m \u001b[32m━━━━━━━━━━━━━━━━━━━━\u001b[0m\u001b[37m\u001b[0m \u001b[1m0s\u001b[0m 2ms/step - accuracy: 0.7970 - loss: 0.4969 - val_accuracy: 0.7969 - val_loss: 0.4947\nEpoch 66/100\n\u001b[1m128/128\u001b[0m \u001b[32m━━━━━━━━━━━━━━━━━━━━\u001b[0m\u001b[37m\u001b[0m \u001b[1m0s\u001b[0m 2ms/step - accuracy: 0.8024 - loss: 0.4882 - val_accuracy: 0.7969 - val_loss: 0.4947\nEpoch 67/100\n\u001b[1m128/128\u001b[0m \u001b[32m━━━━━━━━━━━━━━━━━━━━\u001b[0m\u001b[37m\u001b[0m \u001b[1m0s\u001b[0m 3ms/step - accuracy: 0.8084 - loss: 0.4823 - val_accuracy: 0.7969 - val_loss: 0.4949\nEpoch 68/100\n\u001b[1m128/128\u001b[0m \u001b[32m━━━━━━━━━━━━━━━━━━━━\u001b[0m\u001b[37m\u001b[0m \u001b[1m0s\u001b[0m 2ms/step - accuracy: 0.7996 - loss: 0.4948 - val_accuracy: 0.7969 - val_loss: 0.4947\nEpoch 69/100\n\u001b[1m128/128\u001b[0m \u001b[32m━━━━━━━━━━━━━━━━━━━━\u001b[0m\u001b[37m\u001b[0m \u001b[1m0s\u001b[0m 3ms/step - accuracy: 0.8067 - loss: 0.4838 - val_accuracy: 0.7969 - val_loss: 0.4948\nEpoch 70/100\n\u001b[1m128/128\u001b[0m \u001b[32m━━━━━━━━━━━━━━━━━━━━\u001b[0m\u001b[37m\u001b[0m \u001b[1m0s\u001b[0m 3ms/step - accuracy: 0.7963 - loss: 0.5000 - val_accuracy: 0.7969 - val_loss: 0.4947\nEpoch 71/100\n\u001b[1m128/128\u001b[0m \u001b[32m━━━━━━━━━━━━━━━━━━━━\u001b[0m\u001b[37m\u001b[0m \u001b[1m0s\u001b[0m 3ms/step - accuracy: 0.7963 - loss: 0.4993 - val_accuracy: 0.7969 - val_loss: 0.4947\nEpoch 72/100\n\u001b[1m128/128\u001b[0m \u001b[32m━━━━━━━━━━━━━━━━━━━━\u001b[0m\u001b[37m\u001b[0m \u001b[1m0s\u001b[0m 3ms/step - accuracy: 0.8000 - loss: 0.4936 - val_accuracy: 0.7969 - val_loss: 0.4948\nEpoch 73/100\n\u001b[1m128/128\u001b[0m \u001b[32m━━━━━━━━━━━━━━━━━━━━\u001b[0m\u001b[37m\u001b[0m \u001b[1m0s\u001b[0m 3ms/step - accuracy: 0.7936 - loss: 0.5026 - val_accuracy: 0.7969 - val_loss: 0.4946\nEpoch 74/100\n\u001b[1m128/128\u001b[0m \u001b[32m━━━━━━━━━━━━━━━━━━━━\u001b[0m\u001b[37m\u001b[0m \u001b[1m0s\u001b[0m 3ms/step - accuracy: 0.7914 - loss: 0.5057 - val_accuracy: 0.7969 - val_loss: 0.4947\nEpoch 75/100\n\u001b[1m128/128\u001b[0m \u001b[32m━━━━━━━━━━━━━━━━━━━━\u001b[0m\u001b[37m\u001b[0m \u001b[1m0s\u001b[0m 3ms/step - accuracy: 0.7978 - loss: 0.4958 - val_accuracy: 0.7969 - val_loss: 0.4947\nEpoch 76/100\n\u001b[1m128/128\u001b[0m \u001b[32m━━━━━━━━━━━━━━━━━━━━\u001b[0m\u001b[37m\u001b[0m \u001b[1m0s\u001b[0m 3ms/step - accuracy: 0.7987 - loss: 0.4970 - val_accuracy: 0.7969 - val_loss: 0.4946\nEpoch 77/100\n\u001b[1m128/128\u001b[0m \u001b[32m━━━━━━━━━━━━━━━━━━━━\u001b[0m\u001b[37m\u001b[0m \u001b[1m0s\u001b[0m 3ms/step - accuracy: 0.8074 - loss: 0.4834 - val_accuracy: 0.7969 - val_loss: 0.4948\nEpoch 78/100\n\u001b[1m128/128\u001b[0m \u001b[32m━━━━━━━━━━━━━━━━━━━━\u001b[0m\u001b[37m\u001b[0m \u001b[1m0s\u001b[0m 3ms/step - accuracy: 0.7961 - loss: 0.4965 - val_accuracy: 0.7969 - val_loss: 0.4947\nEpoch 79/100\n\u001b[1m128/128\u001b[0m \u001b[32m━━━━━━━━━━━━━━━━━━━━\u001b[0m\u001b[37m\u001b[0m \u001b[1m0s\u001b[0m 3ms/step - accuracy: 0.7953 - loss: 0.5009 - val_accuracy: 0.7969 - val_loss: 0.4947\nEpoch 80/100\n\u001b[1m128/128\u001b[0m \u001b[32m━━━━━━━━━━━━━━━━━━━━\u001b[0m\u001b[37m\u001b[0m \u001b[1m0s\u001b[0m 3ms/step - accuracy: 0.7983 - loss: 0.4975 - val_accuracy: 0.7969 - val_loss: 0.4946\nEpoch 81/100\n\u001b[1m128/128\u001b[0m \u001b[32m━━━━━━━━━━━━━━━━━━━━\u001b[0m\u001b[37m\u001b[0m \u001b[1m0s\u001b[0m 3ms/step - accuracy: 0.7982 - loss: 0.4940 - val_accuracy: 0.7969 - val_loss: 0.4947\nEpoch 82/100\n\u001b[1m128/128\u001b[0m \u001b[32m━━━━━━━━━━━━━━━━━━━━\u001b[0m\u001b[37m\u001b[0m \u001b[1m0s\u001b[0m 2ms/step - accuracy: 0.7939 - loss: 0.5041 - val_accuracy: 0.7969 - val_loss: 0.4946\nEpoch 83/100\n\u001b[1m128/128\u001b[0m \u001b[32m━━━━━━━━━━━━━━━━━━━━\u001b[0m\u001b[37m\u001b[0m \u001b[1m0s\u001b[0m 3ms/step - accuracy: 0.8054 - loss: 0.4855 - val_accuracy: 0.7969 - val_loss: 0.4946\nEpoch 84/100\n\u001b[1m128/128\u001b[0m \u001b[32m━━━━━━━━━━━━━━━━━━━━\u001b[0m\u001b[37m\u001b[0m \u001b[1m0s\u001b[0m 3ms/step - accuracy: 0.7883 - loss: 0.5093 - val_accuracy: 0.7969 - val_loss: 0.4948\nEpoch 85/100\n\u001b[1m128/128\u001b[0m \u001b[32m━━━━━━━━━━━━━━━━━━━━\u001b[0m\u001b[37m\u001b[0m \u001b[1m0s\u001b[0m 3ms/step - accuracy: 0.7904 - loss: 0.5060 - val_accuracy: 0.7969 - val_loss: 0.4946\nEpoch 86/100\n\u001b[1m128/128\u001b[0m \u001b[32m━━━━━━━━━━━━━━━━━━━━\u001b[0m\u001b[37m\u001b[0m \u001b[1m0s\u001b[0m 3ms/step - accuracy: 0.7962 - loss: 0.5005 - val_accuracy: 0.7969 - val_loss: 0.4946\nEpoch 87/100\n\u001b[1m128/128\u001b[0m \u001b[32m━━━━━━━━━━━━━━━━━━━━\u001b[0m\u001b[37m\u001b[0m \u001b[1m0s\u001b[0m 3ms/step - accuracy: 0.7972 - loss: 0.4986 - val_accuracy: 0.7969 - val_loss: 0.4946\nEpoch 88/100\n\u001b[1m128/128\u001b[0m \u001b[32m━━━━━━━━━━━━━━━━━━━━\u001b[0m\u001b[37m\u001b[0m \u001b[1m0s\u001b[0m 2ms/step - accuracy: 0.7918 - loss: 0.5062 - val_accuracy: 0.7969 - val_loss: 0.4946\nEpoch 89/100\n\u001b[1m128/128\u001b[0m \u001b[32m━━━━━━━━━━━━━━━━━━━━\u001b[0m\u001b[37m\u001b[0m \u001b[1m0s\u001b[0m 3ms/step - accuracy: 0.7938 - loss: 0.5006 - val_accuracy: 0.7969 - val_loss: 0.4947\nEpoch 90/100\n\u001b[1m128/128\u001b[0m \u001b[32m━━━━━━━━━━━━━━━━━━━━\u001b[0m\u001b[37m\u001b[0m \u001b[1m0s\u001b[0m 3ms/step - accuracy: 0.7971 - loss: 0.4967 - val_accuracy: 0.7969 - val_loss: 0.4947\nEpoch 91/100\n\u001b[1m128/128\u001b[0m \u001b[32m━━━━━━━━━━━━━━━━━━━━\u001b[0m\u001b[37m\u001b[0m \u001b[1m0s\u001b[0m 3ms/step - accuracy: 0.7974 - loss: 0.4940 - val_accuracy: 0.7969 - val_loss: 0.4948\nEpoch 92/100\n\u001b[1m128/128\u001b[0m \u001b[32m━━━━━━━━━━━━━━━━━━━━\u001b[0m\u001b[37m\u001b[0m \u001b[1m0s\u001b[0m 3ms/step - accuracy: 0.7963 - loss: 0.4997 - val_accuracy: 0.7969 - val_loss: 0.4947\nEpoch 93/100\n\u001b[1m128/128\u001b[0m \u001b[32m━━━━━━━━━━━━━━━━━━━━\u001b[0m\u001b[37m\u001b[0m \u001b[1m0s\u001b[0m 2ms/step - accuracy: 0.7876 - loss: 0.5099 - val_accuracy: 0.7969 - val_loss: 0.4949\nEpoch 94/100\n\u001b[1m128/128\u001b[0m \u001b[32m━━━━━━━━━━━━━━━━━━━━\u001b[0m\u001b[37m\u001b[0m \u001b[1m0s\u001b[0m 3ms/step - accuracy: 0.7873 - loss: 0.5115 - val_accuracy: 0.7969 - val_loss: 0.4948\nEpoch 95/100\n\u001b[1m128/128\u001b[0m \u001b[32m━━━━━━━━━━━━━━━━━━━━\u001b[0m\u001b[37m\u001b[0m \u001b[1m0s\u001b[0m 3ms/step - accuracy: 0.7952 - loss: 0.5014 - val_accuracy: 0.7969 - val_loss: 0.4946\nEpoch 96/100\n\u001b[1m128/128\u001b[0m \u001b[32m━━━━━━━━━━━━━━━━━━━━\u001b[0m\u001b[37m\u001b[0m \u001b[1m0s\u001b[0m 2ms/step - accuracy: 0.8001 - loss: 0.4924 - val_accuracy: 0.7969 - val_loss: 0.4947\nEpoch 97/100\n\u001b[1m128/128\u001b[0m \u001b[32m━━━━━━━━━━━━━━━━━━━━\u001b[0m\u001b[37m\u001b[0m \u001b[1m0s\u001b[0m 3ms/step - accuracy: 0.8016 - loss: 0.4898 - val_accuracy: 0.7969 - val_loss: 0.4947\nEpoch 98/100\n\u001b[1m128/128\u001b[0m \u001b[32m━━━━━━━━━━━━━━━━━━━━\u001b[0m\u001b[37m\u001b[0m \u001b[1m0s\u001b[0m 3ms/step - accuracy: 0.7988 - loss: 0.4951 - val_accuracy: 0.7969 - val_loss: 0.4947\nEpoch 99/100\n\u001b[1m128/128\u001b[0m \u001b[32m━━━━━━━━━━━━━━━━━━━━\u001b[0m\u001b[37m\u001b[0m \u001b[1m0s\u001b[0m 3ms/step - accuracy: 0.8004 - loss: 0.4894 - val_accuracy: 0.7969 - val_loss: 0.4947\nEpoch 100/100\n\u001b[1m128/128\u001b[0m \u001b[32m━━━━━━━━━━━━━━━━━━━━\u001b[0m\u001b[37m\u001b[0m \u001b[1m0s\u001b[0m 2ms/step - accuracy: 0.7965 - loss: 0.4977 - val_accuracy: 0.7969 - val_loss: 0.4948\n",
          "output_type": "stream"
        }
      ],
      "execution_count": null
    },
    {
      "cell_type": "code",
      "source": [
        "model.layers[0].get_weights()"
      ],
      "metadata": {
        "trusted": true,
        "execution": {
          "iopub.status.busy": "2025-08-20T04:03:45.199183Z",
          "iopub.execute_input": "2025-08-20T04:03:45.199599Z",
          "iopub.status.idle": "2025-08-20T04:03:45.210786Z",
          "shell.execute_reply.started": "2025-08-20T04:03:45.199576Z",
          "shell.execute_reply": "2025-08-20T04:03:45.209964Z"
        },
        "id": "QpvYKeSDCFDM",
        "outputId": "514b05fd-0fa0-4b0d-f21a-baba1479befd"
      },
      "outputs": [
        {
          "execution_count": 26,
          "output_type": "execute_result",
          "data": {
            "text/plain": "[array([[-0.14280057,  0.01076204, -0.4820465 , -0.258464  ,  0.28468013,\n          0.3005991 , -0.35941195,  0.311353  ,  0.39587998,  0.12792844,\n         -0.33991706],\n        [ 0.4706649 , -0.1665811 , -0.09227401, -0.2815543 , -0.25198916,\n         -0.35580313,  0.28339592,  0.03306026, -0.30760247,  0.4204582 ,\n         -0.00896322],\n        [ 0.3075071 , -0.37827632,  0.5104511 , -0.2332005 , -0.04003906,\n          0.21924126, -0.4279726 ,  0.02223759, -0.48849267, -0.07388812,\n         -0.28475514],\n        [ 0.22179018,  0.06781191,  0.4505198 ,  0.34307784, -0.4943376 ,\n         -0.46077654,  0.5096715 ,  0.44952875,  0.4590667 , -0.52093667,\n          0.2781352 ],\n        [-0.4146617 ,  0.50946516,  0.01616357,  0.03202536, -0.34376526,\n          0.31642658, -0.12081948,  0.53596896, -0.19187392,  0.30858982,\n          0.13677168],\n        [-0.47553924,  0.01447779, -0.41633868, -0.22364518,  0.4171272 ,\n         -0.33825356, -0.27523738, -0.11499517, -0.16772684, -0.42461395,\n         -0.05330734],\n        [-0.41635075, -0.21456292,  0.0496797 ,  0.3368148 ,  0.32523018,\n         -0.2852931 ,  0.53822994, -0.20101596, -0.14393923,  0.40256584,\n          0.05281478],\n        [-0.43845764,  0.38175386, -0.5022351 ,  0.44462612,  0.02187765,\n          0.13382077,  0.21266332,  0.02109155, -0.23246837,  0.28998524,\n         -0.08773711],\n        [ 0.12165549,  0.38288963,  0.34353292,  0.2395994 , -0.47054023,\n         -0.3212994 , -0.18645728, -0.13228805,  0.46889398, -0.3879987 ,\n          0.4318949 ],\n        [-0.276779  , -0.2043638 ,  0.2740459 ,  0.33823186, -0.50005674,\n         -0.20760429,  0.13997003,  0.23399368, -0.25820616,  0.09100527,\n          0.39643773],\n        [ 0.1142354 , -0.26656044,  0.36941993,  0.5199062 , -0.46269324,\n          0.47662455,  0.34731752, -0.4447743 ,  0.00847519, -0.30728766,\n          0.00667845]], dtype=float32),\n array([ 1.8686326e-02,  0.0000000e+00, -1.0065088e-02,  8.4939152e-03,\n         0.0000000e+00,  0.0000000e+00,  4.8370946e-02,  7.9466827e-02,\n         2.3459351e-02,  4.0316935e-14,  1.8757591e-02], dtype=float32)]"
          },
          "metadata": {}
        }
      ],
      "execution_count": null
    },
    {
      "cell_type": "code",
      "source": [
        "model.layers[1].get_weights()"
      ],
      "metadata": {
        "trusted": true,
        "execution": {
          "iopub.status.busy": "2025-08-20T04:03:45.211671Z",
          "iopub.execute_input": "2025-08-20T04:03:45.211966Z",
          "iopub.status.idle": "2025-08-20T04:03:45.222017Z",
          "shell.execute_reply.started": "2025-08-20T04:03:45.21194Z",
          "shell.execute_reply": "2025-08-20T04:03:45.221118Z"
        },
        "id": "PO7lvmm4CFDN",
        "outputId": "cbe7b1fe-fc0c-45d7-e421-ab30590de1fd"
      },
      "outputs": [
        {
          "execution_count": 27,
          "output_type": "execute_result",
          "data": {
            "text/plain": "[array([[ 0.22814319, -0.19801076, -0.2767035 ,  0.15442914, -0.01426592,\n         -0.02685739,  0.08260415, -0.03571062, -0.07997674, -0.7787848 ,\n          0.10936156],\n        [-0.11260689,  0.2708515 , -0.09133137, -0.07246598,  0.38932264,\n         -0.27219775,  0.10989453, -0.12300207,  0.24652451, -0.04379007,\n         -0.4217726 ],\n        [ 0.44033322, -0.51914656,  0.04633746,  0.3988071 ,  0.0768598 ,\n          0.00830272, -0.5226829 ,  0.35178408, -0.278079  , -0.43560457,\n         -0.23526563],\n        [ 0.3847635 , -0.18655743, -0.04406962, -0.12504658, -0.5470835 ,\n         -0.30438095, -0.26946262,  0.424547  ,  0.1344425 ,  0.08542629,\n         -0.0643506 ],\n        [ 0.98743504,  0.1274117 ,  0.81535035, -0.6177588 , -0.7668109 ,\n         -0.5092233 , -0.34667367,  0.23772569,  0.7039636 ,  0.9450052 ,\n          0.2453021 ],\n        [ 0.4253804 , -0.40022254,  0.50188786,  0.3061707 , -0.16624656,\n         -0.1847512 , -0.41924566, -0.20215517,  0.61044127, -0.13576011,\n          0.3297038 ],\n        [ 0.52759427,  0.15932511, -0.2597103 ,  0.30015472, -0.17672533,\n          0.07787637,  0.06695491,  0.55994934, -0.19832425, -0.2521835 ,\n         -0.29947656],\n        [-0.38780686, -0.48287755,  0.33022222, -0.33724067,  0.2431684 ,\n          0.18010001,  0.41278955,  0.23925044,  0.44715074, -0.00298626,\n          0.0369335 ],\n        [-0.18497723, -0.16616942, -0.16817099,  0.15144598, -0.6324466 ,\n          0.3156931 ,  0.27283275,  0.1634428 , -0.47656307, -0.37991133,\n          0.5530545 ],\n        [ 0.11280685, -0.18293177,  0.4508866 ,  0.30178112,  0.03616958,\n         -0.35403767, -0.24330705,  0.16723746,  0.25019327,  0.34434295,\n         -0.13424245],\n        [ 0.263142  ,  0.20576347,  0.20905285,  0.2357553 , -0.6792548 ,\n         -0.57785946, -0.08697979, -0.15728827, -0.23020232, -0.11868557,\n         -0.16499777]], dtype=float32),\n array([ 0.09056567, -0.1441496 ,  0.04382329, -0.12018988, -0.09976564,\n        -0.11165167, -0.10957836,  0.15761068,  0.05985051,  0.12327667,\n         0.08158614], dtype=float32)]"
          },
          "metadata": {}
        }
      ],
      "execution_count": null
    },
    {
      "cell_type": "code",
      "source": [
        "model.predict(X_test_trf)"
      ],
      "metadata": {
        "trusted": true,
        "execution": {
          "iopub.status.busy": "2025-08-20T04:03:52.384701Z",
          "iopub.execute_input": "2025-08-20T04:03:52.385516Z",
          "iopub.status.idle": "2025-08-20T04:03:52.687579Z",
          "shell.execute_reply.started": "2025-08-20T04:03:52.385489Z",
          "shell.execute_reply": "2025-08-20T04:03:52.686647Z"
        },
        "id": "15WpOv3sCFDN",
        "outputId": "52cf6848-f194-4750-88a7-c07fbbcf5de1"
      },
      "outputs": [
        {
          "name": "stdout",
          "text": "\u001b[1m63/63\u001b[0m \u001b[32m━━━━━━━━━━━━━━━━━━━━\u001b[0m\u001b[37m\u001b[0m \u001b[1m0s\u001b[0m 2ms/step\n",
          "output_type": "stream"
        },
        {
          "execution_count": 28,
          "output_type": "execute_result",
          "data": {
            "text/plain": "array([[0.18932964],\n       [0.1883305 ],\n       [0.1789349 ],\n       ...,\n       [0.20822744],\n       [0.20291023],\n       [0.20454358]], dtype=float32)"
          },
          "metadata": {}
        }
      ],
      "execution_count": null
    },
    {
      "cell_type": "code",
      "source": [
        "y_log=model.predict(X_test_trf)"
      ],
      "metadata": {
        "trusted": true,
        "execution": {
          "iopub.status.busy": "2025-08-20T04:04:00.601406Z",
          "iopub.execute_input": "2025-08-20T04:04:00.601701Z",
          "iopub.status.idle": "2025-08-20T04:04:00.802238Z",
          "shell.execute_reply.started": "2025-08-20T04:04:00.601681Z",
          "shell.execute_reply": "2025-08-20T04:04:00.80132Z"
        },
        "id": "TRcen-KOCFDN",
        "outputId": "005743a5-2b82-439f-e252-fb3ed1655b6c"
      },
      "outputs": [
        {
          "name": "stdout",
          "text": "\u001b[1m63/63\u001b[0m \u001b[32m━━━━━━━━━━━━━━━━━━━━\u001b[0m\u001b[37m\u001b[0m \u001b[1m0s\u001b[0m 1ms/step\n",
          "output_type": "stream"
        }
      ],
      "execution_count": null
    },
    {
      "cell_type": "code",
      "source": [
        "y_pred=np.where(y_log>0.5,1,0)"
      ],
      "metadata": {
        "trusted": true,
        "execution": {
          "iopub.status.busy": "2025-08-20T04:04:08.187853Z",
          "iopub.execute_input": "2025-08-20T04:04:08.188447Z",
          "iopub.status.idle": "2025-08-20T04:04:08.19286Z",
          "shell.execute_reply.started": "2025-08-20T04:04:08.188417Z",
          "shell.execute_reply": "2025-08-20T04:04:08.192082Z"
        },
        "id": "Te5F5XmZCFDN"
      },
      "outputs": [],
      "execution_count": null
    },
    {
      "cell_type": "code",
      "source": [
        "from sklearn.metrics import accuracy_score\n",
        "accuracy_score(y_test,y_pred)"
      ],
      "metadata": {
        "trusted": true,
        "execution": {
          "iopub.status.busy": "2025-08-20T04:04:16.394834Z",
          "iopub.execute_input": "2025-08-20T04:04:16.395118Z",
          "iopub.status.idle": "2025-08-20T04:04:16.402525Z",
          "shell.execute_reply.started": "2025-08-20T04:04:16.395099Z",
          "shell.execute_reply": "2025-08-20T04:04:16.401608Z"
        },
        "id": "m4-8IQxsCFDN",
        "outputId": "74a55ab7-5ddd-40d4-f90f-4d32ce1f7c36"
      },
      "outputs": [
        {
          "execution_count": 31,
          "output_type": "execute_result",
          "data": {
            "text/plain": "0.7975"
          },
          "metadata": {}
        }
      ],
      "execution_count": null
    },
    {
      "cell_type": "code",
      "source": [
        "import matplotlib.pyplot as plt\n",
        "\n",
        "plt.plot(history.history['loss'])\n",
        "plt.plot(history.history['val_loss'])"
      ],
      "metadata": {
        "trusted": true,
        "execution": {
          "iopub.status.busy": "2025-08-20T04:04:22.489376Z",
          "iopub.execute_input": "2025-08-20T04:04:22.490038Z",
          "iopub.status.idle": "2025-08-20T04:04:22.825255Z",
          "shell.execute_reply.started": "2025-08-20T04:04:22.490008Z",
          "shell.execute_reply": "2025-08-20T04:04:22.824437Z"
        },
        "id": "5EuxH00XCFDN",
        "outputId": "29ae43e5-7b12-43e7-8283-39e160ad82f8"
      },
      "outputs": [
        {
          "execution_count": 32,
          "output_type": "execute_result",
          "data": {
            "text/plain": "[<matplotlib.lines.Line2D at 0x786a78334c50>]"
          },
          "metadata": {}
        },
        {
          "output_type": "display_data",
          "data": {
            "text/plain": "<Figure size 640x480 with 1 Axes>",
            "image/png": "[encoded data removed]"
          },
          "metadata": {}
        }
      ],
      "execution_count": null
    },
    {
      "cell_type": "code",
      "source": [
        "plt.plot(history.history['accuracy'])\n",
        "plt.plot(history.history['val_accuracy'])"
      ],
      "metadata": {
        "trusted": true,
        "execution": {
          "iopub.status.busy": "2025-08-20T04:10:34.183426Z",
          "iopub.execute_input": "2025-08-20T04:10:34.183769Z",
          "iopub.status.idle": "2025-08-20T04:10:34.622813Z",
          "shell.execute_reply.started": "2025-08-20T04:10:34.183749Z",
          "shell.execute_reply": "2025-08-20T04:10:34.621697Z"
        },
        "id": "z1gP2QN5CFDN",
        "outputId": "0cfd2c2b-6349-4109-bc46-f7db96f1e6e0"
      },
      "outputs": [
        {
          "execution_count": 34,
          "output_type": "execute_result",
          "data": {
            "text/plain": "[<matplotlib.lines.Line2D at 0x786a7829d6d0>]"
          },
          "metadata": {}
        },
        {
          "output_type": "display_data",
          "data": {
            "text/plain": "<Figure size 640x480 with 1 Axes>",
            "image/png": "[encoded data removed]"
          },
          "metadata": {}
        }
      ],
      "execution_count": null
    },
    {
      "cell_type": "code",
      "source": [],
      "metadata": {
        "trusted": true,
        "id": "xlbwyqdiCFDN"
      },
      "outputs": [],
      "execution_count": null
    }
  ]
}