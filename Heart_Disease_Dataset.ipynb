{
  "metadata": {
    "kernelspec": {
      "language": "python",
      "display_name": "Python 3",
      "name": "python3"
    },
    "language_info": {
      "name": "python",
      "version": "3.11.13",
      "mimetype": "text/x-python",
      "codemirror_mode": {
        "name": "ipython",
        "version": 3
      },
      "pygments_lexer": "ipython3",
      "nbconvert_exporter": "python",
      "file_extension": ".py"
    },
    "kaggle": {
      "accelerator": "none",
      "dataSources": [
        {
          "sourceId": 477177,
          "sourceType": "datasetVersion",
          "datasetId": 216167
        }
      ],
      "dockerImageVersionId": 31089,
      "isInternetEnabled": false,
      "language": "python",
      "sourceType": "notebook",
      "isGpuEnabled": false
    },
    "colab": {
      "provenance": [],
      "include_colab_link": true
    }
  },
  "nbformat_minor": 0,
  "nbformat": 4,
  "cells": [
    {
      "cell_type": "markdown",
      "metadata": {
        "id": "view-in-github",
        "colab_type": "text"
      },
      "source": [
        "<a href=\"https://colab.research.google.com/github/Vallabhanenikarthik/deep-learning/blob/main/Heart_Disease_Dataset.ipynb\" target=\"_parent\"><img src=\"https://colab.research.google.com/assets/colab-badge.svg\" alt=\"Open In Colab\"/></a>"
      ]
    },
    {
      "source": [
        "# IMPORTANT: RUN THIS CELL IN ORDER TO IMPORT YOUR KAGGLE DATA SOURCES,\n",
        "# THEN FEEL FREE TO DELETE THIS CELL.\n",
        "# NOTE: THIS NOTEBOOK ENVIRONMENT DIFFERS FROM KAGGLE'S PYTHON\n",
        "# ENVIRONMENT SO THERE MAY BE MISSING LIBRARIES USED BY YOUR\n",
        "# NOTEBOOK.\n",
        "import kagglehub\n",
        "johnsmith88_heart_disease_dataset_path = kagglehub.dataset_download('johnsmith88/heart-disease-dataset')\n",
        "\n",
        "print('Data source import complete.')\n"
      ],
      "metadata": {
        "id": "J8L1R5azG5B6"
      },
      "cell_type": "code",
      "outputs": [],
      "execution_count": null
    },
    {
      "cell_type": "code",
      "source": [
        "# This Python 3 environment comes with many helpful analytics libraries installed\n",
        "# It is defined by the kaggle/python Docker image: https://github.com/kaggle/docker-python\n",
        "# For example, here's several helpful packages to load\n",
        "\n",
        "import numpy as np # linear algebra\n",
        "import pandas as pd # data processing, CSV file I/O (e.g. pd.read_csv)\n",
        "\n",
        "# Input data files are available in the read-only \"../input/\" directory\n",
        "# For example, running this (by clicking run or pressing Shift+Enter) will list all files under the input directory\n",
        "\n",
        "import os\n",
        "for dirname, _, filenames in os.walk('/kaggle/input'):\n",
        "    for filename in filenames:\n",
        "        print(os.path.join(dirname, filename))\n",
        "\n",
        "# You can write up to 20GB to the current directory (/kaggle/working/) that gets preserved as output when you create a version using \"Save & Run All\"\n",
        "# You can also write temporary files to /kaggle/temp/, but they won't be saved outside of the current session"
      ],
      "metadata": {
        "_uuid": "8f2839f25d086af736a60e9eeb907d3b93b6e0e5",
        "_cell_guid": "b1076dfc-b9ad-4769-8c92-a6c4dae69d19",
        "trusted": true,
        "execution": {
          "iopub.status.busy": "2025-08-21T09:55:06.178434Z",
          "iopub.execute_input": "2025-08-21T09:55:06.178655Z",
          "iopub.status.idle": "2025-08-21T09:55:08.59088Z",
          "shell.execute_reply.started": "2025-08-21T09:55:06.178634Z",
          "shell.execute_reply": "2025-08-21T09:55:08.589822Z"
        },
        "id": "RNTyb71tG5B9"
      },
      "outputs": [],
      "execution_count": null
    },
    {
      "cell_type": "code",
      "source": [
        "import pandas as pd\n",
        "df = pd.read_csv(\"/kaggle/input/heart-disease-dataset/heart.csv\")"
      ],
      "metadata": {
        "trusted": true,
        "execution": {
          "iopub.status.busy": "2025-08-21T09:57:32.207209Z",
          "iopub.execute_input": "2025-08-21T09:57:32.207499Z",
          "iopub.status.idle": "2025-08-21T09:57:32.235013Z",
          "shell.execute_reply.started": "2025-08-21T09:57:32.207478Z",
          "shell.execute_reply": "2025-08-21T09:57:32.233973Z"
        },
        "id": "NIUvBgAOG5B9"
      },
      "outputs": [],
      "execution_count": null
    },
    {
      "cell_type": "code",
      "source": [
        "df.head()"
      ],
      "metadata": {
        "trusted": true,
        "execution": {
          "iopub.status.busy": "2025-08-21T09:57:43.394391Z",
          "iopub.execute_input": "2025-08-21T09:57:43.394673Z",
          "iopub.status.idle": "2025-08-21T09:57:43.432704Z",
          "shell.execute_reply.started": "2025-08-21T09:57:43.394653Z",
          "shell.execute_reply": "2025-08-21T09:57:43.431562Z"
        },
        "id": "lZgdHnTLG5B9"
      },
      "outputs": [],
      "execution_count": null
    },
    {
      "cell_type": "code",
      "source": [
        "df.info()"
      ],
      "metadata": {
        "trusted": true,
        "execution": {
          "iopub.status.busy": "2025-08-21T09:57:54.232265Z",
          "iopub.execute_input": "2025-08-21T09:57:54.232548Z",
          "iopub.status.idle": "2025-08-21T09:57:54.258894Z",
          "shell.execute_reply.started": "2025-08-21T09:57:54.232528Z",
          "shell.execute_reply": "2025-08-21T09:57:54.257869Z"
        },
        "id": "vl89LkKXG5B-"
      },
      "outputs": [],
      "execution_count": null
    },
    {
      "cell_type": "code",
      "source": [
        "df.duplicated().sum()"
      ],
      "metadata": {
        "trusted": true,
        "execution": {
          "iopub.status.busy": "2025-08-21T09:58:09.160126Z",
          "iopub.execute_input": "2025-08-21T09:58:09.16043Z",
          "iopub.status.idle": "2025-08-21T09:58:09.169973Z",
          "shell.execute_reply.started": "2025-08-21T09:58:09.160406Z",
          "shell.execute_reply": "2025-08-21T09:58:09.168939Z"
        },
        "id": "r6DhB8e5G5B-"
      },
      "outputs": [],
      "execution_count": null
    },
    {
      "cell_type": "code",
      "source": [
        "df['age'].value_counts()"
      ],
      "metadata": {
        "trusted": true,
        "execution": {
          "iopub.status.busy": "2025-08-21T09:58:32.279066Z",
          "iopub.execute_input": "2025-08-21T09:58:32.279356Z",
          "iopub.status.idle": "2025-08-21T09:58:32.2892Z",
          "shell.execute_reply.started": "2025-08-21T09:58:32.279335Z",
          "shell.execute_reply": "2025-08-21T09:58:32.288086Z"
        },
        "id": "s1iJWM2aG5B-"
      },
      "outputs": [],
      "execution_count": null
    },
    {
      "cell_type": "code",
      "source": [
        "df.drop(columns=['age', 'trestbps', 'chol', 'thalach', 'oldpeak'], inplace=True)"
      ],
      "metadata": {
        "trusted": true,
        "execution": {
          "iopub.status.busy": "2025-08-21T10:00:39.872359Z",
          "iopub.execute_input": "2025-08-21T10:00:39.872789Z",
          "iopub.status.idle": "2025-08-21T10:00:39.882898Z",
          "shell.execute_reply.started": "2025-08-21T10:00:39.872748Z",
          "shell.execute_reply": "2025-08-21T10:00:39.881457Z"
        },
        "id": "6o0zaEnCG5B-"
      },
      "outputs": [],
      "execution_count": null
    },
    {
      "cell_type": "code",
      "source": [
        "df.head()"
      ],
      "metadata": {
        "trusted": true,
        "execution": {
          "iopub.status.busy": "2025-08-21T10:01:07.48684Z",
          "iopub.execute_input": "2025-08-21T10:01:07.487204Z",
          "iopub.status.idle": "2025-08-21T10:01:07.499269Z",
          "shell.execute_reply.started": "2025-08-21T10:01:07.487178Z",
          "shell.execute_reply": "2025-08-21T10:01:07.498343Z"
        },
        "id": "V1QAjTByG5B-"
      },
      "outputs": [],
      "execution_count": null
    },
    {
      "cell_type": "code",
      "source": [
        "df['thal'].value_counts()"
      ],
      "metadata": {
        "trusted": true,
        "execution": {
          "iopub.status.busy": "2025-08-21T10:01:34.290346Z",
          "iopub.execute_input": "2025-08-21T10:01:34.290692Z",
          "iopub.status.idle": "2025-08-21T10:01:34.298478Z",
          "shell.execute_reply.started": "2025-08-21T10:01:34.290664Z",
          "shell.execute_reply": "2025-08-21T10:01:34.297573Z"
        },
        "id": "4IF0vqRAG5B-"
      },
      "outputs": [],
      "execution_count": null
    },
    {
      "cell_type": "code",
      "source": [
        "df['sex'].value_counts()"
      ],
      "metadata": {
        "trusted": true,
        "execution": {
          "iopub.status.busy": "2025-08-21T10:01:58.745576Z",
          "iopub.execute_input": "2025-08-21T10:01:58.745852Z",
          "iopub.status.idle": "2025-08-21T10:01:58.753212Z",
          "shell.execute_reply.started": "2025-08-21T10:01:58.745831Z",
          "shell.execute_reply": "2025-08-21T10:01:58.752212Z"
        },
        "id": "7_jL8OzVG5B_"
      },
      "outputs": [],
      "execution_count": null
    },
    {
      "cell_type": "code",
      "source": [
        "df = pd.get_dummies(df,columns=['thal','sex'],drop_first=True)"
      ],
      "metadata": {
        "trusted": true,
        "execution": {
          "iopub.status.busy": "2025-08-21T10:02:32.034157Z",
          "iopub.execute_input": "2025-08-21T10:02:32.034452Z",
          "iopub.status.idle": "2025-08-21T10:02:32.046406Z",
          "shell.execute_reply.started": "2025-08-21T10:02:32.034428Z",
          "shell.execute_reply": "2025-08-21T10:02:32.045613Z"
        },
        "id": "D2AQdR1mG5B_"
      },
      "outputs": [],
      "execution_count": null
    },
    {
      "cell_type": "code",
      "source": [
        "df.head()"
      ],
      "metadata": {
        "trusted": true,
        "execution": {
          "iopub.status.busy": "2025-08-21T10:02:39.610456Z",
          "iopub.execute_input": "2025-08-21T10:02:39.610753Z",
          "iopub.status.idle": "2025-08-21T10:02:39.624333Z",
          "shell.execute_reply.started": "2025-08-21T10:02:39.610723Z",
          "shell.execute_reply": "2025-08-21T10:02:39.623284Z"
        },
        "id": "khS8CJRkG5B_"
      },
      "outputs": [],
      "execution_count": null
    },
    {
      "cell_type": "code",
      "source": [
        "X = df.drop(columns=['cp'])\n",
        "y = df['cp'].values\n",
        "\n",
        "from sklearn.model_selection import train_test_split\n",
        "X_train,X_test,y_train,y_test = train_test_split(X,y,test_size=0.2,random_state=0)"
      ],
      "metadata": {
        "trusted": true,
        "execution": {
          "iopub.status.busy": "2025-08-21T10:03:22.974188Z",
          "iopub.execute_input": "2025-08-21T10:03:22.974496Z",
          "iopub.status.idle": "2025-08-21T10:03:23.815284Z",
          "shell.execute_reply.started": "2025-08-21T10:03:22.974475Z",
          "shell.execute_reply": "2025-08-21T10:03:23.814325Z"
        },
        "id": "HwYPm-IAG5B_"
      },
      "outputs": [],
      "execution_count": null
    },
    {
      "cell_type": "code",
      "source": [
        "X"
      ],
      "metadata": {
        "trusted": true,
        "execution": {
          "iopub.status.busy": "2025-08-21T10:03:35.805639Z",
          "iopub.execute_input": "2025-08-21T10:03:35.805914Z",
          "iopub.status.idle": "2025-08-21T10:03:35.818919Z",
          "shell.execute_reply.started": "2025-08-21T10:03:35.805895Z",
          "shell.execute_reply": "2025-08-21T10:03:35.818117Z"
        },
        "id": "ZlxMdYvuG5B_"
      },
      "outputs": [],
      "execution_count": null
    },
    {
      "cell_type": "code",
      "source": [
        "y"
      ],
      "metadata": {
        "trusted": true,
        "execution": {
          "iopub.status.busy": "2025-08-21T10:03:45.852869Z",
          "iopub.execute_input": "2025-08-21T10:03:45.853963Z",
          "iopub.status.idle": "2025-08-21T10:03:45.859556Z",
          "shell.execute_reply.started": "2025-08-21T10:03:45.853921Z",
          "shell.execute_reply": "2025-08-21T10:03:45.858467Z"
        },
        "id": "SZpLb_PmG5B_"
      },
      "outputs": [],
      "execution_count": null
    },
    {
      "cell_type": "code",
      "source": [
        "X_train"
      ],
      "metadata": {
        "trusted": true,
        "execution": {
          "iopub.status.busy": "2025-08-21T10:03:59.742672Z",
          "iopub.execute_input": "2025-08-21T10:03:59.743027Z",
          "iopub.status.idle": "2025-08-21T10:03:59.756857Z",
          "shell.execute_reply.started": "2025-08-21T10:03:59.742999Z",
          "shell.execute_reply": "2025-08-21T10:03:59.755849Z"
        },
        "id": "hRndJxyfG5B_"
      },
      "outputs": [],
      "execution_count": null
    },
    {
      "cell_type": "code",
      "source": [
        "X_train.shape"
      ],
      "metadata": {
        "trusted": true,
        "execution": {
          "iopub.status.busy": "2025-08-21T10:04:07.125253Z",
          "iopub.execute_input": "2025-08-21T10:04:07.12556Z",
          "iopub.status.idle": "2025-08-21T10:04:07.131661Z",
          "shell.execute_reply.started": "2025-08-21T10:04:07.125537Z",
          "shell.execute_reply": "2025-08-21T10:04:07.13078Z"
        },
        "id": "V4iwIyHQG5B_"
      },
      "outputs": [],
      "execution_count": null
    },
    {
      "cell_type": "code",
      "source": [
        "y_train.shape"
      ],
      "metadata": {
        "trusted": true,
        "execution": {
          "iopub.status.busy": "2025-08-21T10:04:14.785578Z",
          "iopub.execute_input": "2025-08-21T10:04:14.785869Z",
          "iopub.status.idle": "2025-08-21T10:04:14.791243Z",
          "shell.execute_reply.started": "2025-08-21T10:04:14.785847Z",
          "shell.execute_reply": "2025-08-21T10:04:14.790286Z"
        },
        "id": "ab31pgqwG5B_"
      },
      "outputs": [],
      "execution_count": null
    },
    {
      "cell_type": "code",
      "source": [
        "from sklearn.preprocessing import StandardScaler\n",
        "scaler = StandardScaler()\n",
        "\n",
        "X_train_trf = scaler.fit_transform(X_train)\n",
        "X_test_trf = scaler.transform(X_test)"
      ],
      "metadata": {
        "trusted": true,
        "execution": {
          "iopub.status.busy": "2025-08-21T10:04:20.563137Z",
          "iopub.execute_input": "2025-08-21T10:04:20.563433Z",
          "iopub.status.idle": "2025-08-21T10:04:20.604719Z",
          "shell.execute_reply.started": "2025-08-21T10:04:20.563412Z",
          "shell.execute_reply": "2025-08-21T10:04:20.603749Z"
        },
        "id": "868VT2VyG5B_"
      },
      "outputs": [],
      "execution_count": null
    },
    {
      "cell_type": "code",
      "source": [
        "X_train_trf"
      ],
      "metadata": {
        "trusted": true,
        "execution": {
          "iopub.status.busy": "2025-08-21T10:04:27.634134Z",
          "iopub.execute_input": "2025-08-21T10:04:27.634882Z",
          "iopub.status.idle": "2025-08-21T10:04:27.640353Z",
          "shell.execute_reply.started": "2025-08-21T10:04:27.634854Z",
          "shell.execute_reply": "2025-08-21T10:04:27.639442Z"
        },
        "id": "-StkmJHLG5B_"
      },
      "outputs": [],
      "execution_count": null
    },
    {
      "cell_type": "code",
      "source": [
        "X_test_trf"
      ],
      "metadata": {
        "trusted": true,
        "execution": {
          "iopub.status.busy": "2025-08-21T10:04:34.652987Z",
          "iopub.execute_input": "2025-08-21T10:04:34.653373Z",
          "iopub.status.idle": "2025-08-21T10:04:34.660671Z",
          "shell.execute_reply.started": "2025-08-21T10:04:34.653347Z",
          "shell.execute_reply": "2025-08-21T10:04:34.659691Z"
        },
        "id": "TcC7U42yG5B_"
      },
      "outputs": [],
      "execution_count": null
    },
    {
      "cell_type": "code",
      "source": [
        "import pandas as pd\n",
        "from sklearn.model_selection import train_test_split\n",
        "from sklearn.preprocessing import StandardScaler\n",
        "\n",
        "df = pd.read_csv(\"/kaggle/input/heart-disease-dataset/heart.csv\")\n",
        "\n",
        "X = df.drop(columns=['slope'])\n",
        "y = df['slope']\n",
        "\n",
        "\n",
        "scaler = StandardScaler()\n",
        "X = scaler.fit_transform(X)\n",
        "\n",
        "X_train, X_test, y_train, y_test = train_test_split(X, y, test_size=0.2, random_state=42)"
      ],
      "metadata": {
        "trusted": true,
        "execution": {
          "iopub.status.busy": "2025-08-21T10:06:00.34386Z",
          "iopub.execute_input": "2025-08-21T10:06:00.344215Z",
          "iopub.status.idle": "2025-08-21T10:06:00.369745Z",
          "shell.execute_reply.started": "2025-08-21T10:06:00.344188Z",
          "shell.execute_reply": "2025-08-21T10:06:00.368837Z"
        },
        "id": "9RYHlxXsG5B_"
      },
      "outputs": [],
      "execution_count": null
    },
    {
      "cell_type": "code",
      "source": [
        "from keras.models import Sequential\n",
        "from keras.layers import Dense\n",
        "\n",
        "model = Sequential([\n",
        "    Dense(16, input_dim=X_train.shape[1], activation='relu'),  # input_dim = number of features\n",
        "    Dense(8, activation='relu'),\n",
        "    Dense(1, activation='sigmoid')\n",
        "])\n",
        "\n",
        "model.compile(optimizer='adam', loss='binary_crossentropy', metrics=['accuracy'])\n",
        "\n",
        "history = model.fit(X_train, y_train, batch_size=50, epochs=100, verbose=1, validation_split=0.2)\n"
      ],
      "metadata": {
        "trusted": true,
        "execution": {
          "iopub.status.busy": "2025-08-21T10:06:26.690911Z",
          "iopub.execute_input": "2025-08-21T10:06:26.691275Z",
          "iopub.status.idle": "2025-08-21T10:07:01.346202Z",
          "shell.execute_reply.started": "2025-08-21T10:06:26.691249Z",
          "shell.execute_reply": "2025-08-21T10:07:01.34525Z"
        },
        "id": "Q8YU1fZAG5CA"
      },
      "outputs": [],
      "execution_count": null
    },
    {
      "cell_type": "code",
      "source": [
        "model.summary()"
      ],
      "metadata": {
        "trusted": true,
        "execution": {
          "iopub.status.busy": "2025-08-21T10:07:32.09872Z",
          "iopub.execute_input": "2025-08-21T10:07:32.100054Z",
          "iopub.status.idle": "2025-08-21T10:07:32.119462Z",
          "shell.execute_reply.started": "2025-08-21T10:07:32.099986Z",
          "shell.execute_reply": "2025-08-21T10:07:32.118483Z"
        },
        "id": "y2N0dwkWG5CA"
      },
      "outputs": [],
      "execution_count": null
    },
    {
      "cell_type": "code",
      "source": [
        "model.compile(optimizer='Adam',loss='binary_crossentropy',metrics=['accuracy'])"
      ],
      "metadata": {
        "trusted": true,
        "execution": {
          "iopub.status.busy": "2025-08-21T10:07:42.219117Z",
          "iopub.execute_input": "2025-08-21T10:07:42.219427Z",
          "iopub.status.idle": "2025-08-21T10:07:42.2356Z",
          "shell.execute_reply.started": "2025-08-21T10:07:42.219405Z",
          "shell.execute_reply": "2025-08-21T10:07:42.234467Z"
        },
        "id": "ywE0FqhyG5CA"
      },
      "outputs": [],
      "execution_count": null
    },
    {
      "cell_type": "code",
      "source": [
        "model.layers[0].get_weights()"
      ],
      "metadata": {
        "trusted": true,
        "execution": {
          "iopub.status.busy": "2025-08-21T10:07:49.778712Z",
          "iopub.execute_input": "2025-08-21T10:07:49.779152Z",
          "iopub.status.idle": "2025-08-21T10:07:49.791264Z",
          "shell.execute_reply.started": "2025-08-21T10:07:49.779126Z",
          "shell.execute_reply": "2025-08-21T10:07:49.789995Z"
        },
        "id": "nuXTi1oXG5CA"
      },
      "outputs": [],
      "execution_count": null
    },
    {
      "cell_type": "code",
      "source": [
        "model.layers[1].get_weights()"
      ],
      "metadata": {
        "trusted": true,
        "execution": {
          "iopub.status.busy": "2025-08-21T10:07:57.588261Z",
          "iopub.execute_input": "2025-08-21T10:07:57.588573Z",
          "iopub.status.idle": "2025-08-21T10:07:57.599223Z",
          "shell.execute_reply.started": "2025-08-21T10:07:57.588551Z",
          "shell.execute_reply": "2025-08-21T10:07:57.598239Z"
        },
        "id": "GD2R5cNOG5CA"
      },
      "outputs": [],
      "execution_count": null
    },
    {
      "cell_type": "code",
      "source": [
        "import pandas as pd\n",
        "from sklearn.model_selection import train_test_split\n",
        "from sklearn.preprocessing import StandardScaler\n",
        "\n",
        "df = pd.read_csv(\"/kaggle/input/heart-disease-dataset/heart.csv\")\n",
        "\n",
        "X = df.drop(columns=['slope'])\n",
        "y = df['slope']\n",
        "\n",
        "X_train, X_test, y_train, y_test = train_test_split(X, y, test_size=0.2, random_state=42)\n",
        "\n",
        "scaler = StandardScaler()\n",
        "X_train_trf = scaler.fit_transform(X_train)   # fit + transform on train\n",
        "X_test_trf  = scaler.transform(X_test)        # transform only on test (not fit again!)\n",
        "\n",
        "print(\"Train shape:\", X_train_trf.shape)\n",
        "print(\"Test shape:\", X_test_trf.shape)\n"
      ],
      "metadata": {
        "trusted": true,
        "execution": {
          "iopub.status.busy": "2025-08-21T10:09:12.923233Z",
          "iopub.execute_input": "2025-08-21T10:09:12.923599Z",
          "iopub.status.idle": "2025-08-21T10:09:12.946111Z",
          "shell.execute_reply.started": "2025-08-21T10:09:12.923576Z",
          "shell.execute_reply": "2025-08-21T10:09:12.945247Z"
        },
        "id": "HMUp1ZQ0G5CA"
      },
      "outputs": [],
      "execution_count": null
    },
    {
      "cell_type": "code",
      "source": [
        "y_log=model.predict(X_test_trf)"
      ],
      "metadata": {
        "trusted": true,
        "execution": {
          "iopub.status.busy": "2025-08-21T10:09:19.747168Z",
          "iopub.execute_input": "2025-08-21T10:09:19.747476Z",
          "iopub.status.idle": "2025-08-21T10:09:19.97643Z",
          "shell.execute_reply.started": "2025-08-21T10:09:19.747455Z",
          "shell.execute_reply": "2025-08-21T10:09:19.975256Z"
        },
        "id": "Pjzrv83wG5CA"
      },
      "outputs": [],
      "execution_count": null
    },
    {
      "cell_type": "code",
      "source": [
        "y_pred=np.where(y_log>0.5,1,0)"
      ],
      "metadata": {
        "trusted": true,
        "execution": {
          "iopub.status.busy": "2025-08-21T10:09:27.814983Z",
          "iopub.execute_input": "2025-08-21T10:09:27.81568Z",
          "iopub.status.idle": "2025-08-21T10:09:27.819774Z",
          "shell.execute_reply.started": "2025-08-21T10:09:27.815652Z",
          "shell.execute_reply": "2025-08-21T10:09:27.818799Z"
        },
        "id": "IQhPJLsBG5CA"
      },
      "outputs": [],
      "execution_count": null
    },
    {
      "cell_type": "code",
      "source": [
        "from sklearn.metrics import accuracy_score\n",
        "accuracy_score(y_test,y_pred)"
      ],
      "metadata": {
        "trusted": true,
        "execution": {
          "iopub.status.busy": "2025-08-21T10:09:32.569728Z",
          "iopub.execute_input": "2025-08-21T10:09:32.570095Z",
          "iopub.status.idle": "2025-08-21T10:09:32.57793Z",
          "shell.execute_reply.started": "2025-08-21T10:09:32.570066Z",
          "shell.execute_reply": "2025-08-21T10:09:32.57719Z"
        },
        "id": "yMzvKJBhG5CA"
      },
      "outputs": [],
      "execution_count": null
    },
    {
      "cell_type": "code",
      "source": [
        "import matplotlib.pyplot as plt\n",
        "\n",
        "plt.plot(history.history['loss'])\n",
        "plt.plot(history.history['val_loss'])"
      ],
      "metadata": {
        "trusted": true,
        "execution": {
          "iopub.status.busy": "2025-08-21T10:09:40.453431Z",
          "iopub.execute_input": "2025-08-21T10:09:40.453746Z",
          "iopub.status.idle": "2025-08-21T10:09:40.734067Z",
          "shell.execute_reply.started": "2025-08-21T10:09:40.453723Z",
          "shell.execute_reply": "2025-08-21T10:09:40.733013Z"
        },
        "id": "-HF0zyUIG5CA"
      },
      "outputs": [],
      "execution_count": null
    },
    {
      "cell_type": "code",
      "source": [
        "plt.plot(history.history['accuracy'])\n",
        "plt.plot(history.history['val_accuracy'])"
      ],
      "metadata": {
        "trusted": true,
        "execution": {
          "iopub.status.busy": "2025-08-21T10:09:49.583345Z",
          "iopub.execute_input": "2025-08-21T10:09:49.583656Z",
          "iopub.status.idle": "2025-08-21T10:09:49.754056Z",
          "shell.execute_reply.started": "2025-08-21T10:09:49.583633Z",
          "shell.execute_reply": "2025-08-21T10:09:49.753021Z"
        },
        "id": "cpC5HUE-G5CA"
      },
      "outputs": [],
      "execution_count": null
    },
    {
      "cell_type": "code",
      "source": [],
      "metadata": {
        "trusted": true,
        "id": "mk8IzD2RG5CA"
      },
      "outputs": [],
      "execution_count": null
    }
  ]
}